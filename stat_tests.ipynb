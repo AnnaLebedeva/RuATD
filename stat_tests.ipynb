{
  "nbformat": 4,
  "nbformat_minor": 0,
  "metadata": {
    "colab": {
      "name": "NLG.ipynb",
      "provenance": []
    },
    "kernelspec": {
      "name": "python3",
      "display_name": "Python 3"
    },
    "language_info": {
      "name": "python"
    }
  },
  "cells": [
    {
      "cell_type": "code",
      "execution_count": null,
      "metadata": {
        "id": "1TsCm6SgaYTT"
      },
      "outputs": [],
      "source": [
        "import pandas as pd\n",
        "import scipy"
      ]
    },
    {
      "cell_type": "code",
      "source": [
        "train = pd.read_csv('prep_train.csv')\n",
        "val = pd.read_csv('prep_val.csv')"
      ],
      "metadata": {
        "id": "oeTvMqeCfHG5"
      },
      "execution_count": null,
      "outputs": []
    },
    {
      "cell_type": "code",
      "source": [
        "df = pd.concat([train, val], axis=0)"
      ],
      "metadata": {
        "id": "WYCGABOliAEL"
      },
      "execution_count": null,
      "outputs": []
    },
    {
      "cell_type": "code",
      "source": [
        "from scipy import stats"
      ],
      "metadata": {
        "id": "evD5jcQizC74"
      },
      "execution_count": null,
      "outputs": []
    },
    {
      "cell_type": "code",
      "source": [
        "groupby_class = df.groupby('class')"
      ],
      "metadata": {
        "id": "5UFGiTXE78t-"
      },
      "execution_count": null,
      "outputs": []
    },
    {
      "cell_type": "code",
      "source": [
        "groupby_class.mean() #POS None Text посмотреть, pos NOUN text, POS INFN text, pos CONJ text, len_text"
      ],
      "metadata": {
        "colab": {
          "base_uri": "https://localhost:8080/",
          "height": 237
        },
        "id": "sGO0JChe8BNF",
        "outputId": "e0dc0ca4-ec84-4981-c903-45818e16f35c"
      },
      "execution_count": null,
      "outputs": [
        {
          "output_type": "execute_result",
          "data": {
            "text/html": [
              "\n",
              "  <div id=\"df-91016099-6a57-47a5-a018-79e11c2a45a2\">\n",
              "    <div class=\"colab-df-container\">\n",
              "      <div>\n",
              "<style scoped>\n",
              "    .dataframe tbody tr th:only-of-type {\n",
              "        vertical-align: middle;\n",
              "    }\n",
              "\n",
              "    .dataframe tbody tr th {\n",
              "        vertical-align: top;\n",
              "    }\n",
              "\n",
              "    .dataframe thead th {\n",
              "        text-align: right;\n",
              "    }\n",
              "</style>\n",
              "<table border=\"1\" class=\"dataframe\">\n",
              "  <thead>\n",
              "    <tr style=\"text-align: right;\">\n",
              "      <th></th>\n",
              "      <th>id</th>\n",
              "      <th>len_text_text</th>\n",
              "      <th>count_punct_text</th>\n",
              "      <th>count_numbers_text</th>\n",
              "      <th>count_digits_text</th>\n",
              "      <th>count_uppercase_text</th>\n",
              "      <th>count_lowercase_text</th>\n",
              "      <th>avg_word_len_text</th>\n",
              "      <th>mean_ru_vowel_occurance_text</th>\n",
              "      <th>mean_ru_consonant_occurance_text</th>\n",
              "      <th>mean_en_vowel_occurance_text</th>\n",
              "      <th>mean_en_consonant_occurance_text</th>\n",
              "      <th>count_space_text</th>\n",
              "      <th>count_kirr_text</th>\n",
              "      <th>count_lat_text</th>\n",
              "      <th>POS_NOUN_text</th>\n",
              "      <th>POS_ADJF_text</th>\n",
              "      <th>POS_PREP_text</th>\n",
              "      <th>POS_None_text</th>\n",
              "      <th>POS_PRCL_text</th>\n",
              "      <th>POS_NPRO_text</th>\n",
              "      <th>POS_INFN_text</th>\n",
              "      <th>POS_ADVB_text</th>\n",
              "      <th>POS_CONJ_text</th>\n",
              "      <th>POS_VERB_text</th>\n",
              "      <th>POS_PRED_text</th>\n",
              "      <th>POS_ADJS_text</th>\n",
              "      <th>POS_PRTF_text</th>\n",
              "      <th>POS_PRTS_text</th>\n",
              "      <th>POS_INTJ_text</th>\n",
              "      <th>POS_NUMR_text</th>\n",
              "      <th>POS_GRND_text</th>\n",
              "      <th>POS_COMP_text</th>\n",
              "      <th>text_dv_0</th>\n",
              "      <th>text_dv_1</th>\n",
              "      <th>text_dv_2</th>\n",
              "      <th>text_dv_3</th>\n",
              "      <th>text_dv_4</th>\n",
              "      <th>text_dv_5</th>\n",
              "      <th>text_dv_6</th>\n",
              "      <th>...</th>\n",
              "      <th>text_dv_60</th>\n",
              "      <th>text_dv_61</th>\n",
              "      <th>text_dv_62</th>\n",
              "      <th>text_dv_63</th>\n",
              "      <th>text_dv_64</th>\n",
              "      <th>text_dv_65</th>\n",
              "      <th>text_dv_66</th>\n",
              "      <th>text_dv_67</th>\n",
              "      <th>text_dv_68</th>\n",
              "      <th>text_dv_69</th>\n",
              "      <th>text_dv_70</th>\n",
              "      <th>text_dv_71</th>\n",
              "      <th>text_dv_72</th>\n",
              "      <th>text_dv_73</th>\n",
              "      <th>text_dv_74</th>\n",
              "      <th>text_dv_75</th>\n",
              "      <th>text_dv_76</th>\n",
              "      <th>text_dv_77</th>\n",
              "      <th>text_dv_78</th>\n",
              "      <th>text_dv_79</th>\n",
              "      <th>text_dv_80</th>\n",
              "      <th>text_dv_81</th>\n",
              "      <th>text_dv_82</th>\n",
              "      <th>text_dv_83</th>\n",
              "      <th>text_dv_84</th>\n",
              "      <th>text_dv_85</th>\n",
              "      <th>text_dv_86</th>\n",
              "      <th>text_dv_87</th>\n",
              "      <th>text_dv_88</th>\n",
              "      <th>text_dv_89</th>\n",
              "      <th>text_dv_90</th>\n",
              "      <th>text_dv_91</th>\n",
              "      <th>text_dv_92</th>\n",
              "      <th>text_dv_93</th>\n",
              "      <th>text_dv_94</th>\n",
              "      <th>text_dv_95</th>\n",
              "      <th>text_dv_96</th>\n",
              "      <th>text_dv_97</th>\n",
              "      <th>text_dv_98</th>\n",
              "      <th>text_dv_99</th>\n",
              "    </tr>\n",
              "    <tr>\n",
              "      <th>class</th>\n",
              "      <th></th>\n",
              "      <th></th>\n",
              "      <th></th>\n",
              "      <th></th>\n",
              "      <th></th>\n",
              "      <th></th>\n",
              "      <th></th>\n",
              "      <th></th>\n",
              "      <th></th>\n",
              "      <th></th>\n",
              "      <th></th>\n",
              "      <th></th>\n",
              "      <th></th>\n",
              "      <th></th>\n",
              "      <th></th>\n",
              "      <th></th>\n",
              "      <th></th>\n",
              "      <th></th>\n",
              "      <th></th>\n",
              "      <th></th>\n",
              "      <th></th>\n",
              "      <th></th>\n",
              "      <th></th>\n",
              "      <th></th>\n",
              "      <th></th>\n",
              "      <th></th>\n",
              "      <th></th>\n",
              "      <th></th>\n",
              "      <th></th>\n",
              "      <th></th>\n",
              "      <th></th>\n",
              "      <th></th>\n",
              "      <th></th>\n",
              "      <th></th>\n",
              "      <th></th>\n",
              "      <th></th>\n",
              "      <th></th>\n",
              "      <th></th>\n",
              "      <th></th>\n",
              "      <th></th>\n",
              "      <th></th>\n",
              "      <th></th>\n",
              "      <th></th>\n",
              "      <th></th>\n",
              "      <th></th>\n",
              "      <th></th>\n",
              "      <th></th>\n",
              "      <th></th>\n",
              "      <th></th>\n",
              "      <th></th>\n",
              "      <th></th>\n",
              "      <th></th>\n",
              "      <th></th>\n",
              "      <th></th>\n",
              "      <th></th>\n",
              "      <th></th>\n",
              "      <th></th>\n",
              "      <th></th>\n",
              "      <th></th>\n",
              "      <th></th>\n",
              "      <th></th>\n",
              "      <th></th>\n",
              "      <th></th>\n",
              "      <th></th>\n",
              "      <th></th>\n",
              "      <th></th>\n",
              "      <th></th>\n",
              "      <th></th>\n",
              "      <th></th>\n",
              "      <th></th>\n",
              "      <th></th>\n",
              "      <th></th>\n",
              "      <th></th>\n",
              "      <th></th>\n",
              "      <th></th>\n",
              "      <th></th>\n",
              "      <th></th>\n",
              "      <th></th>\n",
              "      <th></th>\n",
              "      <th></th>\n",
              "      <th></th>\n",
              "    </tr>\n",
              "  </thead>\n",
              "  <tbody>\n",
              "    <tr>\n",
              "      <th>H</th>\n",
              "      <td>107677.127160</td>\n",
              "      <td>221.471371</td>\n",
              "      <td>0.034003</td>\n",
              "      <td>0.005677</td>\n",
              "      <td>0.014580</td>\n",
              "      <td>0.031719</td>\n",
              "      <td>0.779590</td>\n",
              "      <td>5.133589</td>\n",
              "      <td>2.023490</td>\n",
              "      <td>2.695057</td>\n",
              "      <td>0.020933</td>\n",
              "      <td>0.032212</td>\n",
              "      <td>0.133110</td>\n",
              "      <td>0.801256</td>\n",
              "      <td>0.011443</td>\n",
              "      <td>12.399646</td>\n",
              "      <td>5.312995</td>\n",
              "      <td>4.726129</td>\n",
              "      <td>4.654922</td>\n",
              "      <td>2.035749</td>\n",
              "      <td>2.247809</td>\n",
              "      <td>1.884765</td>\n",
              "      <td>2.258726</td>\n",
              "      <td>3.152976</td>\n",
              "      <td>2.992940</td>\n",
              "      <td>1.262504</td>\n",
              "      <td>1.432982</td>\n",
              "      <td>1.776514</td>\n",
              "      <td>1.534876</td>\n",
              "      <td>1.168455</td>\n",
              "      <td>1.413378</td>\n",
              "      <td>1.352462</td>\n",
              "      <td>1.253570</td>\n",
              "      <td>-0.020094</td>\n",
              "      <td>0.016279</td>\n",
              "      <td>0.028588</td>\n",
              "      <td>0.017678</td>\n",
              "      <td>0.021778</td>\n",
              "      <td>-0.073108</td>\n",
              "      <td>-0.004054</td>\n",
              "      <td>...</td>\n",
              "      <td>-0.012063</td>\n",
              "      <td>-0.007068</td>\n",
              "      <td>-0.005054</td>\n",
              "      <td>-0.023035</td>\n",
              "      <td>-0.065320</td>\n",
              "      <td>0.046466</td>\n",
              "      <td>0.027179</td>\n",
              "      <td>0.060645</td>\n",
              "      <td>-0.033072</td>\n",
              "      <td>0.016764</td>\n",
              "      <td>0.014449</td>\n",
              "      <td>0.032540</td>\n",
              "      <td>0.047002</td>\n",
              "      <td>-0.002173</td>\n",
              "      <td>0.019973</td>\n",
              "      <td>-0.002361</td>\n",
              "      <td>-0.006400</td>\n",
              "      <td>0.012190</td>\n",
              "      <td>-0.013558</td>\n",
              "      <td>0.001768</td>\n",
              "      <td>-0.047854</td>\n",
              "      <td>-0.020913</td>\n",
              "      <td>-0.049304</td>\n",
              "      <td>0.067869</td>\n",
              "      <td>-0.032504</td>\n",
              "      <td>-0.028302</td>\n",
              "      <td>0.039133</td>\n",
              "      <td>0.038070</td>\n",
              "      <td>0.051267</td>\n",
              "      <td>0.035985</td>\n",
              "      <td>0.044254</td>\n",
              "      <td>-0.007700</td>\n",
              "      <td>-0.001102</td>\n",
              "      <td>-0.007752</td>\n",
              "      <td>0.071833</td>\n",
              "      <td>0.034194</td>\n",
              "      <td>0.009787</td>\n",
              "      <td>-0.025987</td>\n",
              "      <td>0.014627</td>\n",
              "      <td>0.010927</td>\n",
              "    </tr>\n",
              "    <tr>\n",
              "      <th>M</th>\n",
              "      <td>107343.316925</td>\n",
              "      <td>236.906689</td>\n",
              "      <td>0.029894</td>\n",
              "      <td>0.004190</td>\n",
              "      <td>0.011392</td>\n",
              "      <td>0.029219</td>\n",
              "      <td>0.789755</td>\n",
              "      <td>5.126580</td>\n",
              "      <td>2.025573</td>\n",
              "      <td>2.684238</td>\n",
              "      <td>0.036401</td>\n",
              "      <td>0.056745</td>\n",
              "      <td>0.134956</td>\n",
              "      <td>0.802054</td>\n",
              "      <td>0.017249</td>\n",
              "      <td>13.013796</td>\n",
              "      <td>5.043666</td>\n",
              "      <td>4.520689</td>\n",
              "      <td>9.428790</td>\n",
              "      <td>2.270257</td>\n",
              "      <td>2.589960</td>\n",
              "      <td>2.109831</td>\n",
              "      <td>2.645651</td>\n",
              "      <td>2.879713</td>\n",
              "      <td>2.676903</td>\n",
              "      <td>1.322062</td>\n",
              "      <td>1.369480</td>\n",
              "      <td>1.380312</td>\n",
              "      <td>1.411813</td>\n",
              "      <td>1.164668</td>\n",
              "      <td>1.312199</td>\n",
              "      <td>1.154766</td>\n",
              "      <td>1.319849</td>\n",
              "      <td>-0.013532</td>\n",
              "      <td>0.008016</td>\n",
              "      <td>0.029398</td>\n",
              "      <td>0.018920</td>\n",
              "      <td>0.012103</td>\n",
              "      <td>-0.066595</td>\n",
              "      <td>-0.002324</td>\n",
              "      <td>...</td>\n",
              "      <td>-0.011368</td>\n",
              "      <td>0.008378</td>\n",
              "      <td>-0.009568</td>\n",
              "      <td>-0.030879</td>\n",
              "      <td>-0.057281</td>\n",
              "      <td>0.037896</td>\n",
              "      <td>0.010655</td>\n",
              "      <td>0.057783</td>\n",
              "      <td>-0.020738</td>\n",
              "      <td>0.010327</td>\n",
              "      <td>0.014497</td>\n",
              "      <td>0.034481</td>\n",
              "      <td>0.046865</td>\n",
              "      <td>-0.005996</td>\n",
              "      <td>0.023842</td>\n",
              "      <td>-0.004502</td>\n",
              "      <td>-0.007012</td>\n",
              "      <td>0.009031</td>\n",
              "      <td>-0.016552</td>\n",
              "      <td>-0.002064</td>\n",
              "      <td>-0.045018</td>\n",
              "      <td>-0.012780</td>\n",
              "      <td>-0.050044</td>\n",
              "      <td>0.057632</td>\n",
              "      <td>-0.031559</td>\n",
              "      <td>-0.021933</td>\n",
              "      <td>0.036868</td>\n",
              "      <td>0.032494</td>\n",
              "      <td>0.056447</td>\n",
              "      <td>0.031464</td>\n",
              "      <td>0.037655</td>\n",
              "      <td>-0.008176</td>\n",
              "      <td>0.005012</td>\n",
              "      <td>-0.000706</td>\n",
              "      <td>0.061602</td>\n",
              "      <td>0.041447</td>\n",
              "      <td>0.005815</td>\n",
              "      <td>-0.028563</td>\n",
              "      <td>0.012548</td>\n",
              "      <td>0.007196</td>\n",
              "    </tr>\n",
              "  </tbody>\n",
              "</table>\n",
              "<p>2 rows × 133 columns</p>\n",
              "</div>\n",
              "      <button class=\"colab-df-convert\" onclick=\"convertToInteractive('df-91016099-6a57-47a5-a018-79e11c2a45a2')\"\n",
              "              title=\"Convert this dataframe to an interactive table.\"\n",
              "              style=\"display:none;\">\n",
              "        \n",
              "  <svg xmlns=\"http://www.w3.org/2000/svg\" height=\"24px\"viewBox=\"0 0 24 24\"\n",
              "       width=\"24px\">\n",
              "    <path d=\"M0 0h24v24H0V0z\" fill=\"none\"/>\n",
              "    <path d=\"M18.56 5.44l.94 2.06.94-2.06 2.06-.94-2.06-.94-.94-2.06-.94 2.06-2.06.94zm-11 1L8.5 8.5l.94-2.06 2.06-.94-2.06-.94L8.5 2.5l-.94 2.06-2.06.94zm10 10l.94 2.06.94-2.06 2.06-.94-2.06-.94-.94-2.06-.94 2.06-2.06.94z\"/><path d=\"M17.41 7.96l-1.37-1.37c-.4-.4-.92-.59-1.43-.59-.52 0-1.04.2-1.43.59L10.3 9.45l-7.72 7.72c-.78.78-.78 2.05 0 2.83L4 21.41c.39.39.9.59 1.41.59.51 0 1.02-.2 1.41-.59l7.78-7.78 2.81-2.81c.8-.78.8-2.07 0-2.86zM5.41 20L4 18.59l7.72-7.72 1.47 1.35L5.41 20z\"/>\n",
              "  </svg>\n",
              "      </button>\n",
              "      \n",
              "  <style>\n",
              "    .colab-df-container {\n",
              "      display:flex;\n",
              "      flex-wrap:wrap;\n",
              "      gap: 12px;\n",
              "    }\n",
              "\n",
              "    .colab-df-convert {\n",
              "      background-color: #E8F0FE;\n",
              "      border: none;\n",
              "      border-radius: 50%;\n",
              "      cursor: pointer;\n",
              "      display: none;\n",
              "      fill: #1967D2;\n",
              "      height: 32px;\n",
              "      padding: 0 0 0 0;\n",
              "      width: 32px;\n",
              "    }\n",
              "\n",
              "    .colab-df-convert:hover {\n",
              "      background-color: #E2EBFA;\n",
              "      box-shadow: 0px 1px 2px rgba(60, 64, 67, 0.3), 0px 1px 3px 1px rgba(60, 64, 67, 0.15);\n",
              "      fill: #174EA6;\n",
              "    }\n",
              "\n",
              "    [theme=dark] .colab-df-convert {\n",
              "      background-color: #3B4455;\n",
              "      fill: #D2E3FC;\n",
              "    }\n",
              "\n",
              "    [theme=dark] .colab-df-convert:hover {\n",
              "      background-color: #434B5C;\n",
              "      box-shadow: 0px 1px 3px 1px rgba(0, 0, 0, 0.15);\n",
              "      filter: drop-shadow(0px 1px 2px rgba(0, 0, 0, 0.3));\n",
              "      fill: #FFFFFF;\n",
              "    }\n",
              "  </style>\n",
              "\n",
              "      <script>\n",
              "        const buttonEl =\n",
              "          document.querySelector('#df-91016099-6a57-47a5-a018-79e11c2a45a2 button.colab-df-convert');\n",
              "        buttonEl.style.display =\n",
              "          google.colab.kernel.accessAllowed ? 'block' : 'none';\n",
              "\n",
              "        async function convertToInteractive(key) {\n",
              "          const element = document.querySelector('#df-91016099-6a57-47a5-a018-79e11c2a45a2');\n",
              "          const dataTable =\n",
              "            await google.colab.kernel.invokeFunction('convertToInteractive',\n",
              "                                                     [key], {});\n",
              "          if (!dataTable) return;\n",
              "\n",
              "          const docLinkHtml = 'Like what you see? Visit the ' +\n",
              "            '<a target=\"_blank\" href=https://colab.research.google.com/notebooks/data_table.ipynb>data table notebook</a>'\n",
              "            + ' to learn more about interactive tables.';\n",
              "          element.innerHTML = '';\n",
              "          dataTable['output_type'] = 'display_data';\n",
              "          await google.colab.output.renderOutput(dataTable, element);\n",
              "          const docLink = document.createElement('div');\n",
              "          docLink.innerHTML = docLinkHtml;\n",
              "          element.appendChild(docLink);\n",
              "        }\n",
              "      </script>\n",
              "    </div>\n",
              "  </div>\n",
              "  "
            ],
            "text/plain": [
              "                  id  len_text_text  ...  text_dv_98  text_dv_99\n",
              "class                                ...                        \n",
              "H      107677.127160     221.471371  ...    0.014627    0.010927\n",
              "M      107343.316925     236.906689  ...    0.012548    0.007196\n",
              "\n",
              "[2 rows x 133 columns]"
            ]
          },
          "metadata": {},
          "execution_count": 6
        }
      ]
    },
    {
      "cell_type": "code",
      "source": [
        "describe_fields = [\"POS_None_text\", \"POS_INFN_text\", \"POS_CONJ_text\", \"len_text_text\"]\n",
        "\n",
        "print(\"===== train: human\")\n",
        "print(df[df[\"class\"] == \"H\"][describe_fields].describe())\n",
        "print(\"===== train: machine\")\n",
        "print(df[df[\"class\"] == \"M\"][describe_fields].describe())"
      ],
      "metadata": {
        "colab": {
          "base_uri": "https://localhost:8080/"
        },
        "id": "UJSkMIYbTzII",
        "outputId": "9d627a2d-f361-4eb7-ce04-f089b31832e9"
      },
      "execution_count": null,
      "outputs": [
        {
          "output_type": "stream",
          "name": "stdout",
          "text": [
            "===== train: human\n",
            "       POS_None_text  POS_INFN_text  POS_CONJ_text  len_text_text\n",
            "count   34001.000000   17972.000000   44190.000000   75291.000000\n",
            "mean        4.654922       1.884765       3.152976     221.471371\n",
            "std         6.704042       1.963332       4.280672     341.369795\n",
            "min         1.000000       1.000000       1.000000       7.000000\n",
            "25%         1.000000       1.000000       1.000000      59.000000\n",
            "50%         2.000000       1.000000       2.000000      95.000000\n",
            "75%         5.000000       2.000000       3.000000     162.000000\n",
            "max       112.000000      30.000000      56.000000    2963.000000\n",
            "===== train: machine\n",
            "       POS_None_text  POS_INFN_text  POS_CONJ_text  len_text_text\n",
            "count   30740.000000   23081.000000   46863.000000   75286.000000\n",
            "mean        9.428790       2.109831       2.879713     236.906689\n",
            "std        24.848542       2.301162       3.367010     389.235788\n",
            "min         1.000000       1.000000       1.000000       8.000000\n",
            "25%         1.000000       1.000000       1.000000      61.000000\n",
            "50%         3.000000       1.000000       2.000000      99.000000\n",
            "75%         7.000000       2.000000       3.000000     173.000000\n",
            "max       337.000000      35.000000      39.000000    3560.000000\n"
          ]
        }
      ]
    },
    {
      "cell_type": "code",
      "source": [
        "df = df.fillna(0)\n",
        "pd.options.display.float_format = '{:.2f}'.format"
      ],
      "metadata": {
        "id": "DzA1WbC3M99K"
      },
      "execution_count": null,
      "outputs": []
    },
    {
      "cell_type": "code",
      "source": [
        "#subset_h = df[(df['class'] == 'H')]\n",
        "#subset_m = df[(df['class'] == 'M')]"
      ],
      "metadata": {
        "id": "58O69VtgyLae"
      },
      "execution_count": null,
      "outputs": []
    },
    {
      "cell_type": "markdown",
      "source": [
        "2-sample t-tests"
      ],
      "metadata": {
        "id": "XQ5AVZvKtHTp"
      }
    },
    {
      "cell_type": "code",
      "source": [
        "human_pos = df[df['class'] == 'H']['POS_None_text']\n",
        "machine_pos = df[df['class'] == 'M']['POS_None_text']"
      ],
      "metadata": {
        "id": "Mikt4ChUyRxx"
      },
      "execution_count": null,
      "outputs": []
    },
    {
      "cell_type": "code",
      "source": [
        "human_pos.head()"
      ],
      "metadata": {
        "colab": {
          "base_uri": "https://localhost:8080/"
        },
        "id": "fZcMnPmgbhxq",
        "outputId": "5db84637-2869-4327-ca39-a73239882c8b"
      },
      "execution_count": null,
      "outputs": [
        {
          "output_type": "execute_result",
          "data": {
            "text/plain": [
              "0    0.0\n",
              "1    3.0\n",
              "2    0.0\n",
              "5    0.0\n",
              "6    0.0\n",
              "Name: POS_None_text, dtype: float64"
            ]
          },
          "metadata": {},
          "execution_count": 54
        }
      ]
    },
    {
      "cell_type": "code",
      "source": [
        "stats.ttest_ind(human_pos, machine_pos) #есть"
      ],
      "metadata": {
        "colab": {
          "base_uri": "https://localhost:8080/"
        },
        "id": "lTBZtO1Yy2gm",
        "outputId": "db3f7001-400a-4995-c3d5-3ac0d1ff760f"
      },
      "execution_count": null,
      "outputs": [
        {
          "output_type": "execute_result",
          "data": {
            "text/plain": [
              "Ttest_indResult(statistic=-27.72231389539626, pvalue=1.0014764137322084e-168)"
            ]
          },
          "metadata": {},
          "execution_count": 10
        }
      ]
    },
    {
      "cell_type": "code",
      "source": [
        "stats.ttest_ind(df[df['class'] == 'H']['POS_CONJ_text'], df[df['class'] == 'M']['POS_CONJ_text']) #есть"
      ],
      "metadata": {
        "colab": {
          "base_uri": "https://localhost:8080/"
        },
        "id": "EdO5SBZOp5R0",
        "outputId": "a5d1ce4e-9528-4258-b0d2-55ccfc7eb266"
      },
      "execution_count": null,
      "outputs": [
        {
          "output_type": "execute_result",
          "data": {
            "text/plain": [
              "Ttest_indResult(statistic=3.3815646424256087, pvalue=0.0007209258943904499)"
            ]
          },
          "metadata": {},
          "execution_count": 12
        }
      ]
    },
    {
      "cell_type": "code",
      "source": [
        "stats.ttest_ind(df[df['class'] == 'H']['POS_INFN_text'], df[df['class'] == 'M']['POS_INFN_text']) #есть"
      ],
      "metadata": {
        "colab": {
          "base_uri": "https://localhost:8080/"
        },
        "id": "zh3kdOYdp5jX",
        "outputId": "cdac7bf4-611b-4512-b135-c13ebbad199f"
      },
      "execution_count": null,
      "outputs": [
        {
          "output_type": "execute_result",
          "data": {
            "text/plain": [
              "Ttest_indResult(statistic=-26.57223151016148, pvalue=3.2523744062445617e-155)"
            ]
          },
          "metadata": {},
          "execution_count": 11
        }
      ]
    },
    {
      "cell_type": "code",
      "source": [
        "stats.ttest_ind(df[df['class'] == 'H']['len_text_text'], df[df['class'] == 'M']['len_text_text']) #есть"
      ],
      "metadata": {
        "colab": {
          "base_uri": "https://localhost:8080/"
        },
        "id": "E4tbHD5Qp5xK",
        "outputId": "3c6235d7-76f8-4c57-b5c9-ba8bb045fca5"
      },
      "execution_count": null,
      "outputs": [
        {
          "output_type": "execute_result",
          "data": {
            "text/plain": [
              "Ttest_indResult(statistic=-8.18055550017655, pvalue=2.847092003931036e-16)"
            ]
          },
          "metadata": {},
          "execution_count": 13
        }
      ]
    },
    {
      "cell_type": "code",
      "source": [
        "stats.ttest_ind(df[df['class'] == 'H']['count_punct_text'], df[df['class'] == 'M']['count_punct_text']) #Ээээ поч есть "
      ],
      "metadata": {
        "colab": {
          "base_uri": "https://localhost:8080/"
        },
        "id": "uMDuqknmsFx3",
        "outputId": "bd2a79f9-6537-4118-f5c7-3aac9ae175b5"
      },
      "execution_count": null,
      "outputs": [
        {
          "output_type": "execute_result",
          "data": {
            "text/plain": [
              "Ttest_indResult(statistic=37.179912581751786, pvalue=3.3899070323768653e-301)"
            ]
          },
          "metadata": {},
          "execution_count": 14
        }
      ]
    },
    {
      "cell_type": "code",
      "source": [
        "stats.ttest_ind(df[df['class'] == 'H']['count_numbers_text'], df[df['class'] == 'M']['count_numbers_text'])"
      ],
      "metadata": {
        "colab": {
          "base_uri": "https://localhost:8080/"
        },
        "id": "GGhVO0Lwsrr4",
        "outputId": "6a7ff2a5-1b7a-4b7b-c552-56dd1b5357c8"
      },
      "execution_count": null,
      "outputs": [
        {
          "output_type": "execute_result",
          "data": {
            "text/plain": [
              "Ttest_indResult(statistic=23.906055272649628, pvalue=4.5590549241098247e-126)"
            ]
          },
          "metadata": {},
          "execution_count": 16
        }
      ]
    },
    {
      "cell_type": "code",
      "source": [
        "#нужно ли нам смотреть, какие фичи значимо отличаются друг от друга?"
      ],
      "metadata": {
        "id": "DeKV3KKbRGup"
      },
      "execution_count": null,
      "outputs": []
    },
    {
      "cell_type": "code",
      "source": [
        "#from statsmodels.formula.api import ols\n",
        "#model = ols(\"POS_None_text ~ class + 1\", df).fit()"
      ],
      "metadata": {
        "colab": {
          "base_uri": "https://localhost:8080/",
          "height": 130
        },
        "id": "d86dA32lRclY",
        "outputId": "c048c617-8190-4837-c9b7-d578e88cf4d3"
      },
      "execution_count": null,
      "outputs": [
        {
          "output_type": "error",
          "ename": "SyntaxError",
          "evalue": "ignored",
          "traceback": [
            "\u001b[0;36m  File \u001b[0;32m\"<unknown>\"\u001b[0;36m, line \u001b[0;32m1\u001b[0m\n\u001b[0;31m    class\u001b[0m\n\u001b[0m         ^\u001b[0m\n\u001b[0;31mSyntaxError\u001b[0m\u001b[0;31m:\u001b[0m invalid syntax\n"
          ]
        }
      ]
    },
    {
      "cell_type": "code",
      "source": [
        "#import pingouin as pg\n",
        "#aov = pg.anova(data=df, dv='Scores', between='Group', detailed=True)\n",
        "#print(aov)"
      ],
      "metadata": {
        "id": "7NHkbeXHSkkB"
      },
      "execution_count": null,
      "outputs": []
    },
    {
      "cell_type": "code",
      "source": [
        "#from scipy.stats.mstats_basic import f_oneway\n",
        "#f_oneway(human_pos, machine_pos)"
      ],
      "metadata": {
        "id": "sDlK8yMlry98"
      },
      "execution_count": null,
      "outputs": []
    },
    {
      "cell_type": "code",
      "source": [
        "import seaborn\n",
        "seaborn.pairplot(df, vars=['len_text_text', 'count_punct_text', 'count_numbers_text'],\n",
        "                 kind='reg', hue='class')  "
      ],
      "metadata": {
        "colab": {
          "base_uri": "https://localhost:8080/",
          "height": 567
        },
        "id": "QxQwFHx_-1l2",
        "outputId": "dabdc3dc-9e00-4f23-e6c9-f92531c7cc97"
      },
      "execution_count": null,
      "outputs": [
        {
          "output_type": "execute_result",
          "data": {
            "text/plain": [
              "<seaborn.axisgrid.PairGrid at 0x7f2dacded2d0>"
            ]
          },
          "metadata": {},
          "execution_count": 15
        },
        {
          "output_type": "display_data",
          "data": {
            "image/png": "[encoded data removed]",
            "text/plain": [
              "<Figure size 584.625x540 with 12 Axes>"
            ]
          },
          "metadata": {
            "needs_background": "light"
          }
        }
      ]
    }
  ]
}