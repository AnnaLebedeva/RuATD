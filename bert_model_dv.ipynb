{
 "cells": [
  {
   "cell_type": "code",
   "execution_count": 2,
   "metadata": {
    "id": "tAb77yZ9fzMG"
   },
   "outputs": [],
   "source": [
    "import torch\n",
    "import numpy as np\n",
    "import matplotlib.pyplot as plt\n",
    "import pandas as pd\n",
    "import re\n",
    "from sklearn.model_selection import train_test_split\n",
    "from sklearn.metrics import accuracy_score\n",
    "from analyzer import Analyzer"
   ]
  },
  {
   "cell_type": "code",
   "execution_count": 3,
   "metadata": {
    "id": "pafL7Li0jyXW"
   },
   "outputs": [],
   "source": [
    "train = pd.read_csv('prep_train.csv')\n",
    "val = pd.read_csv('prep_val.csv')\n",
    "test = pd.read_csv('test.csv')"
   ]
  },
  {
   "cell_type": "code",
   "execution_count": 3,
   "metadata": {},
   "outputs": [
    {
     "data": {
      "text/plain": [
       "((129066, 39), (21511, 139), (64533, 2))"
      ]
     },
     "execution_count": 3,
     "metadata": {},
     "output_type": "execute_result"
    }
   ],
   "source": [
    "train.shape, val.shape, test.shape"
   ]
  },
  {
   "cell_type": "code",
   "execution_count": 1,
   "metadata": {},
   "outputs": [],
   "source": [
    "from gensim.models import Word2Vec"
   ]
  },
  {
   "cell_type": "code",
   "execution_count": 4,
   "metadata": {},
   "outputs": [
    {
     "data": {
      "text/plain": [
       "0                   NOUN NOUN ADJF PREP ADJF NOUN ADJF NOUN\n",
       "1         None NOUN PRCL NOUN NPRO NOUN INFN NOUN ADJF N...\n",
       "2                                  VERB PRCL ADVB ADVB VERB\n",
       "3                        NOUN VERB NOUN NOUN NOUN ADJF NOUN\n",
       "4         PREP NOUN None NOUN NOUN NOUN VERB NOUN PREP N...\n",
       "                                ...                        \n",
       "129061    NOUN None None NOUN None None PREP NOUN ADJF N...\n",
       "129062    NUMR NOUN VERB ADJF NOUN PREP ADJF NOUN NOUN P...\n",
       "129063    PREP ADJF NOUN NOUN NOUN VERB ADJF NOUN ADVB N...\n",
       "129064                                  PREP NOUN ADJF NOUN\n",
       "129065    NOUN VERB PREP NOUN PREP NOUN NOUN PREP NOUN P...\n",
       "Name: sent_POS_text, Length: 129066, dtype: object"
      ]
     },
     "execution_count": 4,
     "metadata": {},
     "output_type": "execute_result"
    }
   ],
   "source": [
    "train['sent_POS_text']"
   ]
  },
  {
   "cell_type": "code",
   "execution_count": 4,
   "metadata": {},
   "outputs": [],
   "source": [
    "val = val[[col for col in list(val) if 'dv_' not in col]]"
   ]
  },
  {
   "cell_type": "code",
   "execution_count": 3,
   "metadata": {},
   "outputs": [],
   "source": [
    "analyzer = Analyzer('train')\n",
    "analyzer.analyzed_col = 'sent_POS_text'"
   ]
  },
  {
   "cell_type": "code",
   "execution_count": 5,
   "metadata": {},
   "outputs": [],
   "source": [
    "import gensim\n",
    "\n",
    "model = gensim.models.Word2Vec.load('word2vec.model')"
   ]
  },
  {
   "cell_type": "code",
   "execution_count": 6,
   "metadata": {},
   "outputs": [
    {
     "data": {
      "text/plain": [
       "<gensim.models.keyedvectors.KeyedVectors at 0x7f82f7267280>"
      ]
     },
     "execution_count": 6,
     "metadata": {},
     "output_type": "execute_result"
    }
   ],
   "source": [
    "model.wv"
   ]
  },
  {
   "cell_type": "code",
   "execution_count": null,
   "metadata": {},
   "outputs": [],
   "source": []
  },
  {
   "cell_type": "code",
   "execution_count": 10,
   "metadata": {},
   "outputs": [
    {
     "data": {
      "text/plain": [
       "['NOUN',\n",
       " 'ADJF',\n",
       " 'PREP',\n",
       " 'None',\n",
       " 'VERB',\n",
       " 'CONJ',\n",
       " 'NPRO',\n",
       " 'ADVB',\n",
       " 'PRCL',\n",
       " 'INFN',\n",
       " 'PRTF',\n",
       " 'PRTS',\n",
       " 'ADJS',\n",
       " 'NUMR',\n",
       " 'PRED',\n",
       " 'GRND',\n",
       " 'COMP',\n",
       " 'INTJ']"
      ]
     },
     "execution_count": 10,
     "metadata": {},
     "output_type": "execute_result"
    }
   ],
   "source": [
    "vocab = list(model.wv.key_to_index)\n",
    "povocab"
   ]
  },
  {
   "cell_type": "code",
   "execution_count": 13,
   "metadata": {},
   "outputs": [
    {
     "data": {
      "text/plain": [
       "'-0.74849164\\t-0.016440477\\t0.7033729\\t-0.85169244\\t0.40016246\\t-0.5810844\\t-1.0438801\\t4.261011\\t0.5596296\\t-1.9166043\\t1.516909\\t5.22645\\t1.0920554\\t-2.4872072\\t2.8856199\\t-3.9830105\\t-0.20617351\\t2.5473897\\t-1.3508\\t0.8772642\\t0.35450888\\t0.5011177\\t1.5103401\\t-1.5956503\\t3.9857912\\t-1.2797375\\t1.0761979\\t-1.517197\\t0.3352032\\t0.3906144\\t1.8319159\\t-0.15944307\\t1.1122271\\t-4.98739\\t-2.1936476\\t1.0302399\\t-0.08091977\\t-1.7911991\\t-1.885218\\t-1.8070511\\t-1.5552547\\t-0.011989762\\t3.725976\\t-2.2416239\\t0.92718387\\t0.89931667\\t-0.419241\\t-0.19907098\\t-0.14889671\\t1.0041192\\t-0.501933\\t-1.6294181\\t-3.3739517\\t-1.601543\\t-0.6786019\\t-0.9225113\\t2.7682097\\t0.018136691\\t-0.9613646\\t0.5685879\\t-0.36159876\\t-0.11288919\\t2.145612\\t-2.7210557\\t1.0731356\\t1.5448462\\t0.79668033\\t3.214673\\t-1.623721\\t-2.2603657\\t1.2457333\\t-0.022041604\\t-1.3490736\\t0.52691257\\t0.50672406\\t-1.2129828\\t2.1197891\\t1.8983538\\t1.5517435\\t-2.2552288\\t0.82966954\\t1.2379822\\t0.08714297\\t0.68827903\\t0.553775\\t1.9816177\\t1.81725\\t1.5322561\\t-1.3855909\\t-0.92335117\\t-0.17208436\\t0.5489108\\t-1.8167511\\t3.1559556\\t-2.4591289\\t-2.0366697\\t3.9806066\\t-0.024855977\\t-0.73053527\\t-2.8078713'"
      ]
     },
     "execution_count": 13,
     "metadata": {},
     "output_type": "execute_result"
    }
   ],
   "source": [
    "'\\t'.join(map(str, model.wv['None']))"
   ]
  },
  {
   "cell_type": "code",
   "execution_count": 15,
   "metadata": {},
   "outputs": [],
   "source": [
    "pos_vectors = []\n",
    "pos_names = []\n",
    "\n",
    "for pos_name in vocab:\n",
    "    pos_vectors.append('\\t'.join(map(str, model.wv[pos_name])))\n",
    "    pos_names.append(pos_name)\n",
    "    \n",
    "with open('pos_vectors.tsv', 'w') as f:\n",
    "    f.write('\\n'.join(pos_vectors))\n",
    "\n",
    "with open('pos_names.tsv', 'w') as f:\n",
    "    f.write('\\n'.join(pos_names))"
   ]
  },
  {
   "cell_type": "code",
   "execution_count": 7,
   "metadata": {},
   "outputs": [
    {
     "data": {
      "text/plain": [
       "array([-0.2874522 ,  0.85130095, -0.01534773, -0.04884012,  0.14866215,\n",
       "       -0.09482151, -0.36148   , -0.38378868, -0.08952446,  0.41745612,\n",
       "       -0.19127071,  0.0362182 , -0.51798254, -0.03100233,  0.3440144 ,\n",
       "        0.6484209 , -0.41542804, -0.40429282,  0.26474258,  0.53980845,\n",
       "        0.24455816,  0.3281851 , -0.73636836,  0.5060767 ,  0.43129826,\n",
       "       -0.220559  ,  0.12219408, -1.3245472 ,  1.100471  , -0.21820113,\n",
       "        0.8391931 , -0.2874885 ,  0.05190698, -1.8615727 ,  0.97415376,\n",
       "       -0.01516293,  0.08186497,  0.35106146,  0.18813564, -0.15669465,\n",
       "        0.41836596, -0.14104468, -0.4069133 ,  0.6092934 ,  0.0114898 ,\n",
       "       -0.4830417 , -0.10276387,  0.3749026 ,  0.11199082, -0.1916937 ,\n",
       "       -0.01822144,  0.13101006,  0.44583628, -0.17435515,  0.3357939 ,\n",
       "       -0.40758246, -0.42986143, -0.16206297,  0.15623274, -0.5364317 ,\n",
       "       -0.21661139,  0.21488027, -0.18391138,  0.18611649,  0.44986185,\n",
       "       -0.1971969 ,  0.31041515,  0.22967777, -0.40256876, -0.5127971 ,\n",
       "       -0.39001143, -0.4541392 , -0.09102461, -0.29384974, -0.31357682,\n",
       "       -0.50526184,  0.16790032, -0.02065168,  0.15711291,  0.2063448 ,\n",
       "        0.04676156, -0.38500205, -0.71346503, -0.68704736, -0.48769218,\n",
       "       -0.10191058, -0.9054375 , -0.01700724, -1.1139677 ,  0.6481739 ,\n",
       "        0.22590603, -0.3731862 , -0.3829493 ,  0.20817432, -0.6690068 ,\n",
       "       -0.11149982,  1.189347  , -0.0739156 , -0.21550076,  0.12772258],\n",
       "      dtype=float32)"
      ]
     },
     "execution_count": 7,
     "metadata": {},
     "output_type": "execute_result"
    }
   ],
   "source": [
    "model.wv['NOUN']"
   ]
  },
  {
   "cell_type": "code",
   "execution_count": 7,
   "metadata": {},
   "outputs": [
    {
     "ename": "AttributeError",
     "evalue": "The vocab attribute was removed from KeyedVector in Gensim 4.0.0.\nUse KeyedVector's .key_to_index dict, .index_to_key list, and methods .get_vecattr(key, attr) and .set_vecattr(key, attr, new_val) instead.\nSee https://github.com/RaRe-Technologies/gensim/wiki/Migrating-from-Gensim-3.x-to-4",
     "output_type": "error",
     "traceback": [
      "\u001b[0;31m---------------------------------------------------------------------------\u001b[0m",
      "\u001b[0;31mAttributeError\u001b[0m                            Traceback (most recent call last)",
      "\u001b[0;32m/tmp/ipykernel_3226993/2110511477.py\u001b[0m in \u001b[0;36m<module>\u001b[0;34m\u001b[0m\n\u001b[1;32m      5\u001b[0m \u001b[0;32mimport\u001b[0m \u001b[0mmatplotlib\u001b[0m\u001b[0;34m.\u001b[0m\u001b[0mpyplot\u001b[0m \u001b[0;32mas\u001b[0m \u001b[0mplt\u001b[0m\u001b[0;34m\u001b[0m\u001b[0;34m\u001b[0m\u001b[0m\n\u001b[1;32m      6\u001b[0m \u001b[0;34m\u001b[0m\u001b[0m\n\u001b[0;32m----> 7\u001b[0;31m \u001b[0mX\u001b[0m \u001b[0;34m=\u001b[0m \u001b[0mmodel\u001b[0m\u001b[0;34m.\u001b[0m\u001b[0mwv\u001b[0m\u001b[0;34m[\u001b[0m\u001b[0mmodel\u001b[0m\u001b[0;34m.\u001b[0m\u001b[0mwv\u001b[0m\u001b[0;34m.\u001b[0m\u001b[0mvocab\u001b[0m\u001b[0;34m]\u001b[0m\u001b[0;34m\u001b[0m\u001b[0;34m\u001b[0m\u001b[0m\n\u001b[0m\u001b[1;32m      8\u001b[0m \u001b[0;34m\u001b[0m\u001b[0m\n\u001b[1;32m      9\u001b[0m \u001b[0mtsne\u001b[0m \u001b[0;34m=\u001b[0m \u001b[0mTSNE\u001b[0m\u001b[0;34m(\u001b[0m\u001b[0mn_components\u001b[0m\u001b[0;34m=\u001b[0m\u001b[0;36m2\u001b[0m\u001b[0;34m)\u001b[0m\u001b[0;34m\u001b[0m\u001b[0;34m\u001b[0m\u001b[0m\n",
      "\u001b[0;32m~/.local/lib/python3.8/site-packages/gensim/models/keyedvectors.py\u001b[0m in \u001b[0;36mvocab\u001b[0;34m(self)\u001b[0m\n\u001b[1;32m    659\u001b[0m     \u001b[0;34m@\u001b[0m\u001b[0mproperty\u001b[0m\u001b[0;34m\u001b[0m\u001b[0;34m\u001b[0m\u001b[0m\n\u001b[1;32m    660\u001b[0m     \u001b[0;32mdef\u001b[0m \u001b[0mvocab\u001b[0m\u001b[0;34m(\u001b[0m\u001b[0mself\u001b[0m\u001b[0;34m)\u001b[0m\u001b[0;34m:\u001b[0m\u001b[0;34m\u001b[0m\u001b[0;34m\u001b[0m\u001b[0m\n\u001b[0;32m--> 661\u001b[0;31m         raise AttributeError(\n\u001b[0m\u001b[1;32m    662\u001b[0m             \u001b[0;34m\"The vocab attribute was removed from KeyedVector in Gensim 4.0.0.\\n\"\u001b[0m\u001b[0;34m\u001b[0m\u001b[0;34m\u001b[0m\u001b[0m\n\u001b[1;32m    663\u001b[0m             \u001b[0;34m\"Use KeyedVector's .key_to_index dict, .index_to_key list, and methods \"\u001b[0m\u001b[0;34m\u001b[0m\u001b[0;34m\u001b[0m\u001b[0m\n",
      "\u001b[0;31mAttributeError\u001b[0m: The vocab attribute was removed from KeyedVector in Gensim 4.0.0.\nUse KeyedVector's .key_to_index dict, .index_to_key list, and methods .get_vecattr(key, attr) and .set_vecattr(key, attr, new_val) instead.\nSee https://github.com/RaRe-Technologies/gensim/wiki/Migrating-from-Gensim-3.x-to-4"
     ]
    }
   ],
   "source": [
    "from gensim.models.word2vec import Word2Vec\n",
    "from sklearn.manifold import TSNE\n",
    "from sklearn.datasets import fetch_20newsgroups\n",
    "import re\n",
    "import matplotlib.pyplot as plt\n",
    "\n",
    "X = model.wv[model.wv.vocab]\n",
    "\n",
    "tsne = TSNE(n_components=2)\n",
    "X_tsne = tsne.fit_transform(X)\n",
    "\n",
    "plt.scatter(X_tsne[:, 0], X_tsne[:, 1])\n",
    "plt.show()"
   ]
  },
  {
   "cell_type": "code",
   "execution_count": 12,
   "metadata": {},
   "outputs": [
    {
     "ename": "TypeError",
     "evalue": "'list' object is not callable",
     "output_type": "error",
     "traceback": [
      "\u001b[0;31m---------------------------------------------------------------------------\u001b[0m",
      "\u001b[0;31mTypeError\u001b[0m                                 Traceback (most recent call last)",
      "\u001b[0;32m/tmp/ipykernel_3226993/2594399843.py\u001b[0m in \u001b[0;36m<module>\u001b[0;34m\u001b[0m\n\u001b[0;32m----> 1\u001b[0;31m \u001b[0mmodel\u001b[0m\u001b[0;34m.\u001b[0m\u001b[0mwv\u001b[0m\u001b[0;34m.\u001b[0m\u001b[0mindex_to_key\u001b[0m\u001b[0;34m(\u001b[0m\u001b[0;34m)\u001b[0m\u001b[0;34m\u001b[0m\u001b[0;34m\u001b[0m\u001b[0m\n\u001b[0m",
      "\u001b[0;31mTypeError\u001b[0m: 'list' object is not callable"
     ]
    }
   ],
   "source": [
    "model.wv.index_to_key()"
   ]
  },
  {
   "cell_type": "code",
   "execution_count": 6,
   "metadata": {},
   "outputs": [
    {
     "data": {
      "text/plain": [
       "18"
      ]
     },
     "execution_count": 6,
     "metadata": {},
     "output_type": "execute_result"
    }
   ],
   "source": [
    "len(model.wv)"
   ]
  },
  {
   "cell_type": "code",
   "execution_count": 38,
   "metadata": {},
   "outputs": [
    {
     "name": "stdout",
     "output_type": "stream",
     "text": [
      "Name: scikit-learn\r\n",
      "Version: 0.21.2\r\n",
      "Summary: A set of python modules for machine learning and data mining\r\n",
      "Home-page: http://scikit-learn.org\r\n",
      "Author: \r\n",
      "Author-email: \r\n",
      "License: new BSD\r\n",
      "Location: /home/nanosemantics/.local/lib/python3.8/site-packages\r\n",
      "Requires: joblib, numpy, scipy\r\n",
      "Required-by: deeppavlov, librosa\r\n"
     ]
    }
   ],
   "source": [
    "!pip show scikit-learn"
   ]
  },
  {
   "cell_type": "code",
   "execution_count": 39,
   "metadata": {},
   "outputs": [
    {
     "name": "stdout",
     "output_type": "stream",
     "text": [
      "Defaulting to user installation because normal site-packages is not writeable\n",
      "Collecting scikit-learn==0.23.1\n",
      "  Downloading scikit_learn-0.23.1-cp38-cp38-manylinux1_x86_64.whl (6.7 MB)\n",
      "\u001b[2K     \u001b[90m━━━━━━━━━━━━━━━━━━━━━━━━━━━━━━━━━━━━━━━━\u001b[0m \u001b[32m6.7/6.7 MB\u001b[0m \u001b[31m20.0 MB/s\u001b[0m eta \u001b[36m0:00:00\u001b[0m00:01\u001b[0m00:01\u001b[0m\n",
      "\u001b[?25hRequirement already satisfied: numpy>=1.13.3 in /home/nanosemantics/.local/lib/python3.8/site-packages (from scikit-learn==0.23.1) (1.21.4)\n",
      "Collecting threadpoolctl>=2.0.0\n",
      "  Downloading threadpoolctl-3.1.0-py3-none-any.whl (14 kB)\n",
      "Requirement already satisfied: scipy>=0.19.1 in /home/nanosemantics/.local/lib/python3.8/site-packages (from scikit-learn==0.23.1) (1.6.3)\n",
      "Requirement already satisfied: joblib>=0.11 in /home/nanosemantics/.local/lib/python3.8/site-packages (from scikit-learn==0.23.1) (1.1.0)\n",
      "Installing collected packages: threadpoolctl, scikit-learn\n",
      "  Attempting uninstall: scikit-learn\n",
      "    Found existing installation: scikit-learn 0.21.2\n",
      "    Uninstalling scikit-learn-0.21.2:\n",
      "      Successfully uninstalled scikit-learn-0.21.2\n",
      "\u001b[31mERROR: pip's dependency resolver does not currently take into account all the packages that are installed. This behaviour is the source of the following dependency conflicts.\n",
      "deeppavlov 0.17.1 requires numpy==1.18.0, but you have numpy 1.21.4 which is incompatible.\n",
      "deeppavlov 0.17.1 requires requests==2.22.0, but you have requests 2.25.1 which is incompatible.\n",
      "deeppavlov 0.17.1 requires scikit-learn==0.21.2, but you have scikit-learn 0.23.1 which is incompatible.\n",
      "deeppavlov 0.17.1 requires scipy==1.4.1, but you have scipy 1.6.3 which is incompatible.\u001b[0m\u001b[31m\n",
      "\u001b[0mSuccessfully installed scikit-learn-0.23.1 threadpoolctl-3.1.0\n"
     ]
    }
   ],
   "source": [
    "!pip install scikit-learn==0.23.1"
   ]
  },
  {
   "cell_type": "code",
   "execution_count": 2,
   "metadata": {},
   "outputs": [],
   "source": [
    "from sklearn.decomposition import PCA"
   ]
  },
  {
   "cell_type": "code",
   "execution_count": 4,
   "metadata": {},
   "outputs": [
    {
     "ename": "NameError",
     "evalue": "name 'model' is not defined",
     "output_type": "error",
     "traceback": [
      "\u001b[0;31m---------------------------------------------------------------------------\u001b[0m",
      "\u001b[0;31mNameError\u001b[0m                                 Traceback (most recent call last)",
      "\u001b[0;32m/tmp/ipykernel_3226993/379156555.py\u001b[0m in \u001b[0;36m<module>\u001b[0;34m\u001b[0m\n\u001b[0;32m----> 1\u001b[0;31m \u001b[0mmodel\u001b[0m\u001b[0;34m.\u001b[0m\u001b[0mvw\u001b[0m\u001b[0;34m\u001b[0m\u001b[0;34m\u001b[0m\u001b[0m\n\u001b[0m",
      "\u001b[0;31mNameError\u001b[0m: name 'model' is not defined"
     ]
    }
   ],
   "source": [
    "model.vw"
   ]
  },
  {
   "cell_type": "code",
   "execution_count": null,
   "metadata": {},
   "outputs": [],
   "source": [
    "pca = PCA(n_components=2)\n",
    "pca.fit(X)"
   ]
  },
  {
   "cell_type": "code",
   "execution_count": 32,
   "metadata": {},
   "outputs": [
    {
     "ename": "ModuleNotFoundError",
     "evalue": "No module named 'sklearn.lda'",
     "output_type": "error",
     "traceback": [
      "\u001b[0;31m---------------------------------------------------------------------------\u001b[0m",
      "\u001b[0;31mModuleNotFoundError\u001b[0m                       Traceback (most recent call last)",
      "\u001b[0;32m/tmp/ipykernel_3164291/116259722.py\u001b[0m in \u001b[0;36m<module>\u001b[0;34m\u001b[0m\n\u001b[0;32m----> 1\u001b[0;31m \u001b[0;32mfrom\u001b[0m \u001b[0msklearn\u001b[0m\u001b[0;34m.\u001b[0m\u001b[0mlda\u001b[0m \u001b[0;32mimport\u001b[0m \u001b[0mLDA\u001b[0m\u001b[0;34m\u001b[0m\u001b[0;34m\u001b[0m\u001b[0m\n\u001b[0m",
      "\u001b[0;31mModuleNotFoundError\u001b[0m: No module named 'sklearn.lda'"
     ]
    }
   ],
   "source": [
    "from sklearn.lda import LDA"
   ]
  },
  {
   "cell_type": "code",
   "execution_count": 29,
   "metadata": {},
   "outputs": [
    {
     "data": {
      "text/plain": [
       "array([ 0.04470874,  0.6628131 , -0.3481395 , -0.02961009,  0.00572962,\n",
       "        0.02570482, -0.16590007, -0.6457095 , -0.7343817 ,  0.9429476 ,\n",
       "       -0.49702483, -0.13238746, -0.33526668,  0.49036783, -0.03657308,\n",
       "        0.86074233, -0.61553574, -0.8506943 ,  0.7412843 ,  0.68052554,\n",
       "        0.51669085,  0.6199167 , -0.9593267 ,  0.67976445,  0.24157555,\n",
       "       -0.3554617 ,  0.1752105 , -1.586104  ,  1.2389504 , -0.6177737 ,\n",
       "        0.9936832 ,  0.02576716,  0.02313237, -0.9793699 ,  1.0027975 ,\n",
       "       -0.15945259,  0.2328022 ,  0.28655618,  0.2530978 ,  0.05210338,\n",
       "        0.4573541 , -0.15506767,  0.25227767,  0.5735993 , -0.12248959,\n",
       "       -0.47727984, -0.25953802,  0.1838962 ,  0.03093045, -0.5295079 ,\n",
       "       -0.01603477,  0.27244297,  0.6878788 , -0.16079348,  0.22760019,\n",
       "       -0.37312514, -0.827438  , -0.09424496,  0.42157888, -0.8131631 ,\n",
       "       -0.04908488,  0.36280125, -0.4023944 ,  0.6851493 ,  0.6593176 ,\n",
       "       -0.64173007,  0.7096138 , -0.48257494, -0.0273924 , -0.08070508,\n",
       "       -0.5103361 , -0.85822254,  0.13716745, -0.3176142 , -0.8401727 ,\n",
       "       -0.56703395, -0.37510163,  0.03239737, -0.39004114,  0.7370599 ,\n",
       "       -0.18284366, -0.67859644, -1.4538227 , -1.3075446 , -0.67413837,\n",
       "       -0.37098962, -1.2322612 , -0.01384159, -1.5185035 ,  1.1082634 ,\n",
       "       -0.22487034, -0.6568551 , -0.840199  ,  0.13579267, -1.0769598 ,\n",
       "        0.08234783,  0.833231  ,  0.9592066 ,  0.12603112,  0.15468477],\n",
       "      dtype=float32)"
      ]
     },
     "execution_count": 29,
     "metadata": {},
     "output_type": "execute_result"
    }
   ],
   "source": [
    "model.wv[10]"
   ]
  },
  {
   "cell_type": "code",
   "execution_count": 16,
   "metadata": {},
   "outputs": [
    {
     "data": {
      "text/plain": [
       "[('ADJF', 0.9068644642829895),\n",
       " ('PREP', 0.902047872543335),\n",
       " ('PRTF', 0.8427443504333496),\n",
       " ('PRTS', 0.6658680438995361),\n",
       " ('None', 0.07352957874536514),\n",
       " ('NUMR', -0.07693822681903839),\n",
       " ('GRND', -0.3079085052013397),\n",
       " ('CONJ', -0.6583704352378845),\n",
       " ('ADJS', -0.678288459777832),\n",
       " ('VERB', -0.7007269263267517)]"
      ]
     },
     "execution_count": 16,
     "metadata": {},
     "output_type": "execute_result"
    }
   ],
   "source": [
    "model.wv.most_similar('NOUN')"
   ]
  },
  {
   "cell_type": "code",
   "execution_count": 8,
   "metadata": {},
   "outputs": [
    {
     "name": "stdout",
     "output_type": "stream",
     "text": [
      "Train w2v model is complete...\n"
     ]
    },
    {
     "name": "stderr",
     "output_type": "stream",
     "text": [
      "4163it [00:24, 166.68it/s]\n"
     ]
    },
    {
     "ename": "KeyboardInterrupt",
     "evalue": "",
     "output_type": "error",
     "traceback": [
      "\u001b[0;31m---------------------------------------------------------------------------\u001b[0m",
      "\u001b[0;31mKeyboardInterrupt\u001b[0m                         Traceback (most recent call last)",
      "\u001b[0;32m/tmp/ipykernel_3164291/3383148921.py\u001b[0m in \u001b[0;36m<module>\u001b[0;34m\u001b[0m\n\u001b[0;32m----> 1\u001b[0;31m \u001b[0mtrain\u001b[0m \u001b[0;34m=\u001b[0m \u001b[0manalyzer\u001b[0m\u001b[0;34m.\u001b[0m\u001b[0madd_wv_vectors\u001b[0m\u001b[0;34m(\u001b[0m\u001b[0mtrain\u001b[0m\u001b[0;34m)\u001b[0m\u001b[0;34m\u001b[0m\u001b[0;34m\u001b[0m\u001b[0m\n\u001b[0m",
      "\u001b[0;32m/raid/nanosemantics/sasha/projects/ruatd/analyzer.py\u001b[0m in \u001b[0;36madd_wv_vectors\u001b[0;34m(self, df)\u001b[0m\n\u001b[1;32m    259\u001b[0m             \u001b[0mself\u001b[0m\u001b[0;34m.\u001b[0m\u001b[0mmodel\u001b[0m \u001b[0;34m=\u001b[0m \u001b[0mgensim\u001b[0m\u001b[0;34m.\u001b[0m\u001b[0mmodels\u001b[0m\u001b[0;34m.\u001b[0m\u001b[0mWord2Vec\u001b[0m\u001b[0;34m.\u001b[0m\u001b[0mload\u001b[0m\u001b[0;34m(\u001b[0m\u001b[0;34m'word2vec.model'\u001b[0m\u001b[0;34m)\u001b[0m\u001b[0;34m\u001b[0m\u001b[0;34m\u001b[0m\u001b[0m\n\u001b[1;32m    260\u001b[0m         \u001b[0mprint\u001b[0m\u001b[0;34m(\u001b[0m\u001b[0;34m'Train w2v model is complete...'\u001b[0m\u001b[0;34m)\u001b[0m\u001b[0;34m\u001b[0m\u001b[0;34m\u001b[0m\u001b[0m\n\u001b[0;32m--> 261\u001b[0;31m         \u001b[0mw2v_vectors\u001b[0m \u001b[0;34m=\u001b[0m \u001b[0mself\u001b[0m\u001b[0;34m.\u001b[0m\u001b[0msentence_vectors\u001b[0m\u001b[0;34m(\u001b[0m\u001b[0mtokenized_corpus\u001b[0m\u001b[0;34m,\u001b[0m \u001b[0mself\u001b[0m\u001b[0;34m.\u001b[0m\u001b[0mVECTOR_SIZE\u001b[0m\u001b[0;34m)\u001b[0m\u001b[0;34m\u001b[0m\u001b[0;34m\u001b[0m\u001b[0m\n\u001b[0m\u001b[1;32m    262\u001b[0m         \u001b[0mw2v_df\u001b[0m \u001b[0;34m=\u001b[0m \u001b[0mpd\u001b[0m\u001b[0;34m.\u001b[0m\u001b[0mDataFrame\u001b[0m\u001b[0;34m(\u001b[0m\u001b[0mw2v_vectors\u001b[0m\u001b[0;34m,\u001b[0m \u001b[0mcolumns\u001b[0m\u001b[0;34m=\u001b[0m\u001b[0;34m[\u001b[0m\u001b[0;34m'ft_'\u001b[0m \u001b[0;34m+\u001b[0m \u001b[0mstr\u001b[0m\u001b[0;34m(\u001b[0m\u001b[0mi\u001b[0m\u001b[0;34m)\u001b[0m \u001b[0;32mfor\u001b[0m \u001b[0mi\u001b[0m \u001b[0;32min\u001b[0m \u001b[0mrange\u001b[0m\u001b[0;34m(\u001b[0m\u001b[0mw2v_vectors\u001b[0m\u001b[0;34m.\u001b[0m\u001b[0mshape\u001b[0m\u001b[0;34m[\u001b[0m\u001b[0;36m1\u001b[0m\u001b[0;34m]\u001b[0m\u001b[0;34m)\u001b[0m\u001b[0;34m]\u001b[0m\u001b[0;34m)\u001b[0m\u001b[0;34m\u001b[0m\u001b[0;34m\u001b[0m\u001b[0m\n\u001b[1;32m    263\u001b[0m         \u001b[0mdf\u001b[0m\u001b[0;34m.\u001b[0m\u001b[0mreset_index\u001b[0m\u001b[0;34m(\u001b[0m\u001b[0minplace\u001b[0m\u001b[0;34m=\u001b[0m\u001b[0;32mTrue\u001b[0m\u001b[0;34m,\u001b[0m \u001b[0mdrop\u001b[0m\u001b[0;34m=\u001b[0m\u001b[0;32mTrue\u001b[0m\u001b[0;34m)\u001b[0m\u001b[0;34m\u001b[0m\u001b[0;34m\u001b[0m\u001b[0m\n",
      "\u001b[0;32m/raid/nanosemantics/sasha/projects/ruatd/analyzer.py\u001b[0m in \u001b[0;36msentence_vectors\u001b[0;34m(self, tokenized_corpus, VECTOR_SIZE)\u001b[0m\n\u001b[1;32m    244\u001b[0m                     \u001b[0mn\u001b[0m \u001b[0;34m+=\u001b[0m \u001b[0;36m1\u001b[0m\u001b[0;34m\u001b[0m\u001b[0;34m\u001b[0m\u001b[0m\n\u001b[1;32m    245\u001b[0m                     \u001b[0;32mpass\u001b[0m\u001b[0;34m\u001b[0m\u001b[0;34m\u001b[0m\u001b[0m\n\u001b[0;32m--> 246\u001b[0;31m             \u001b[0mpooled_sentence_vector\u001b[0m \u001b[0;34m=\u001b[0m \u001b[0msentence_vector\u001b[0m\u001b[0;34m.\u001b[0m\u001b[0mmean\u001b[0m\u001b[0;34m(\u001b[0m\u001b[0maxis\u001b[0m\u001b[0;34m=\u001b[0m\u001b[0;36m0\u001b[0m\u001b[0;34m)\u001b[0m\u001b[0;34m\u001b[0m\u001b[0;34m\u001b[0m\u001b[0m\n\u001b[0m\u001b[1;32m    247\u001b[0m             \u001b[0msentence_vectors\u001b[0m\u001b[0;34m[\u001b[0m\u001b[0mi\u001b[0m\u001b[0;34m]\u001b[0m \u001b[0;34m=\u001b[0m \u001b[0mpooled_sentence_vector\u001b[0m\u001b[0;34m\u001b[0m\u001b[0;34m\u001b[0m\u001b[0m\n\u001b[1;32m    248\u001b[0m \u001b[0;34m\u001b[0m\u001b[0m\n",
      "\u001b[0;32m~/.local/lib/python3.8/site-packages/numpy/core/_methods.py\u001b[0m in \u001b[0;36m_mean\u001b[0;34m(a, axis, dtype, out, keepdims, where)\u001b[0m\n\u001b[1;32m    177\u001b[0m             \u001b[0mis_float16_result\u001b[0m \u001b[0;34m=\u001b[0m \u001b[0;32mTrue\u001b[0m\u001b[0;34m\u001b[0m\u001b[0;34m\u001b[0m\u001b[0m\n\u001b[1;32m    178\u001b[0m \u001b[0;34m\u001b[0m\u001b[0m\n\u001b[0;32m--> 179\u001b[0;31m     \u001b[0mret\u001b[0m \u001b[0;34m=\u001b[0m \u001b[0mumr_sum\u001b[0m\u001b[0;34m(\u001b[0m\u001b[0marr\u001b[0m\u001b[0;34m,\u001b[0m \u001b[0maxis\u001b[0m\u001b[0;34m,\u001b[0m \u001b[0mdtype\u001b[0m\u001b[0;34m,\u001b[0m \u001b[0mout\u001b[0m\u001b[0;34m,\u001b[0m \u001b[0mkeepdims\u001b[0m\u001b[0;34m,\u001b[0m \u001b[0mwhere\u001b[0m\u001b[0;34m=\u001b[0m\u001b[0mwhere\u001b[0m\u001b[0;34m)\u001b[0m\u001b[0;34m\u001b[0m\u001b[0;34m\u001b[0m\u001b[0m\n\u001b[0m\u001b[1;32m    180\u001b[0m     \u001b[0;32mif\u001b[0m \u001b[0misinstance\u001b[0m\u001b[0;34m(\u001b[0m\u001b[0mret\u001b[0m\u001b[0;34m,\u001b[0m \u001b[0mmu\u001b[0m\u001b[0;34m.\u001b[0m\u001b[0mndarray\u001b[0m\u001b[0;34m)\u001b[0m\u001b[0;34m:\u001b[0m\u001b[0;34m\u001b[0m\u001b[0;34m\u001b[0m\u001b[0m\n\u001b[1;32m    181\u001b[0m         ret = um.true_divide(\n",
      "\u001b[0;31mKeyboardInterrupt\u001b[0m: "
     ]
    }
   ],
   "source": [
    "train = analyzer.add_wv_vectors(train)"
   ]
  },
  {
   "cell_type": "code",
   "execution_count": 6,
   "metadata": {},
   "outputs": [],
   "source": [
    "train = analyzer.add_d2v_vectors(train)"
   ]
  },
  {
   "cell_type": "code",
   "execution_count": 7,
   "metadata": {},
   "outputs": [],
   "source": [
    "inf_analyzer = Analyzer('inference')\n",
    "inf_analyzer.analyzed_col = 'text'"
   ]
  },
  {
   "cell_type": "code",
   "execution_count": 8,
   "metadata": {},
   "outputs": [],
   "source": [
    "val = inf_analyzer.add_d2v_vectors(val)"
   ]
  },
  {
   "cell_type": "code",
   "execution_count": 9,
   "metadata": {},
   "outputs": [],
   "source": [
    "test.columns = ['id', 'text']"
   ]
  },
  {
   "cell_type": "code",
   "execution_count": 10,
   "metadata": {},
   "outputs": [
    {
     "name": "stdout",
     "output_type": "stream",
     "text": [
      "Text lemmatized and trash removed...\n",
      "Features is calculated...\n",
      "Count POS is complete...\n"
     ]
    }
   ],
   "source": [
    "test = inf_analyzer.data_processing(test, 'text')"
   ]
  },
  {
   "cell_type": "code",
   "execution_count": 42,
   "metadata": {},
   "outputs": [],
   "source": [
    "train['tokens_text'] = train['text'].apply(lambda x: analyzer.tokenize_text(x))\n",
    "val['tokens_text'] = val['text'].apply(lambda x: analyzer.tokenize_text(x))\n",
    "test['tokens_text'] = test['text'].apply(lambda x: analyzer.tokenize_text(x))"
   ]
  },
  {
   "cell_type": "code",
   "execution_count": 43,
   "metadata": {},
   "outputs": [
    {
     "name": "stderr",
     "output_type": "stream",
     "text": [
      "Loading the LM will be faster if you build a binary file.\n",
      "Reading /raid/nanosemantics/sasha/projects/kenlm/lm_model_files/4.arpa\n",
      "----5---10---15---20---25---30---35---40---45---50---55---60---65---70---75---80---85---90---95--100\n",
      "****************************************************************************************************\n"
     ]
    }
   ],
   "source": [
    "from kenlm import Model\n",
    "\n",
    "kenlm_model = Model('../kenlm/lm_model_files/4.arpa')"
   ]
  },
  {
   "cell_type": "code",
   "execution_count": 44,
   "metadata": {},
   "outputs": [],
   "source": [
    "def kenlm_score(text):\n",
    "    return kenlm_model.score(text, bos = True, eos = True)"
   ]
  },
  {
   "cell_type": "code",
   "execution_count": 45,
   "metadata": {},
   "outputs": [],
   "source": [
    "train['kenlm_score'] = train['tokens_text'].apply(lambda x: kenlm_score(x))\n",
    "val['kenlm_score'] = val['tokens_text'].apply(lambda x: kenlm_score(x))\n",
    "test['kenlm_score'] = test['tokens_text'].apply(lambda x: kenlm_score(x))"
   ]
  },
  {
   "cell_type": "code",
   "execution_count": 46,
   "metadata": {},
   "outputs": [
    {
     "data": {
      "text/plain": [
       "((129066, 141), (21511, 141), (64533, 158))"
      ]
     },
     "execution_count": 46,
     "metadata": {},
     "output_type": "execute_result"
    }
   ],
   "source": [
    "train.shape, val.shape, test.shape"
   ]
  },
  {
   "cell_type": "code",
   "execution_count": 11,
   "metadata": {
    "colab": {
     "base_uri": "https://localhost:8080/"
    },
    "id": "61TUgHVDkKjP",
    "outputId": "345d0f31-b687-4bbb-8edb-db9dfb8ecc11"
   },
   "outputs": [
    {
     "data": {
      "text/plain": [
       "device(type='cuda')"
      ]
     },
     "execution_count": 11,
     "metadata": {},
     "output_type": "execute_result"
    }
   ],
   "source": [
    "device = torch.device(\"cuda\" if torch.cuda.is_available() else 'cpu')\n",
    "device"
   ]
  },
  {
   "cell_type": "code",
   "execution_count": 12,
   "metadata": {
    "id": "RbquzqlIkXSx"
   },
   "outputs": [],
   "source": [
    "train['text'] = train['text'].apply(lambda x: x[:512])\n",
    "train['class'] = train['class'].map({'M': 1, 'H': 0})"
   ]
  },
  {
   "cell_type": "code",
   "execution_count": 13,
   "metadata": {},
   "outputs": [],
   "source": [
    "val['text'] = val['text'].apply(lambda x: x[:512])\n",
    "val['class'] = val['class'].map({'M': 1, 'H': 0})"
   ]
  },
  {
   "cell_type": "code",
   "execution_count": 14,
   "metadata": {},
   "outputs": [],
   "source": [
    "test['text'] = test['text'].apply(lambda x: x[:512])"
   ]
  },
  {
   "cell_type": "code",
   "execution_count": 15,
   "metadata": {
    "id": "OKGXLYLFkYjr"
   },
   "outputs": [],
   "source": [
    "train['text'] = train['text'].apply(lambda x: '[CLS] ' + x + ' [SEP]')"
   ]
  },
  {
   "cell_type": "code",
   "execution_count": 16,
   "metadata": {},
   "outputs": [],
   "source": [
    "val['text'] = val['text'].apply(lambda x: '[CLS] ' + x + ' [SEP]')"
   ]
  },
  {
   "cell_type": "code",
   "execution_count": 17,
   "metadata": {},
   "outputs": [],
   "source": [
    "test['text'] = test['text'].apply(lambda x: '[CLS] ' + x + ' [SEP]')"
   ]
  },
  {
   "cell_type": "code",
   "execution_count": 20,
   "metadata": {},
   "outputs": [],
   "source": [
    "cols = [col for col in list(train) if 'ft_' not in col]\n",
    "\n",
    "dropped_cols = ['count_POS_text', 'POS_text', 'id', 'class', 'lemm_text', 'sent_POS_text']\n",
    "\n",
    "for col in dropped_cols:\n",
    "    cols.pop(cols.index(col))"
   ]
  },
  {
   "cell_type": "code",
   "execution_count": 21,
   "metadata": {},
   "outputs": [],
   "source": [
    "train.fillna(0, inplace=True)\n",
    "val.fillna(0, inplace=True)\n",
    "test.fillna(0, inplace=True)"
   ]
  },
  {
   "cell_type": "code",
   "execution_count": 22,
   "metadata": {},
   "outputs": [
    {
     "data": {
      "text/plain": [
       "((64533, 156), (129066, 139), (21511, 139))"
      ]
     },
     "execution_count": 22,
     "metadata": {},
     "output_type": "execute_result"
    }
   ],
   "source": [
    "test.shape, train.shape, val.shape"
   ]
  },
  {
   "cell_type": "code",
   "execution_count": 23,
   "metadata": {},
   "outputs": [
    {
     "data": {
      "text/plain": [
       "count_lowercase_text                0\n",
       "mean_ru_vowel_occurance_text        0\n",
       "mean_ru_consonant_occurance_text    0\n",
       "mean_en_vowel_occurance_text        0\n",
       "mean_en_consonant_occurance_text    0\n",
       "count_space_text                    0\n",
       "count_kirr_text                     0\n",
       "count_lat_text                      0\n",
       "avg_word_len_text                   0\n",
       "POS_INTJ_text                       0\n",
       "POS_NOUN                            0\n",
       "POS_None                            0\n",
       "text_dv_4                           0\n",
       "text_dv_5                           0\n",
       "text_dv_6                           0\n",
       "text_dv_7                           0\n",
       "text_dv_8                           0\n",
       "text_dv_9                           0\n",
       "text_dv_10                          0\n",
       "text_dv_3                           0\n",
       "text_dv_11                          0\n",
       "text_dv_13                          0\n",
       "text_dv_14                          0\n",
       "text_dv_15                          0\n",
       "text_dv_16                          0\n",
       "text_dv_17                          0\n",
       "text_dv_18                          0\n",
       "text_dv_19                          0\n",
       "text_dv_12                          0\n",
       "text_dv_98                          0\n",
       "text_dv_2                           0\n",
       "text_dv_0                           0\n",
       "POS_ADJF                            0\n",
       "POS_VERB                            0\n",
       "POS_PRTF                            0\n",
       "POS_ADVB                            0\n",
       "POS_INFN                            0\n",
       "POS_CONJ                            0\n",
       "POS_PRTS                            0\n",
       "text_dv_1                           0\n",
       "POS_GRND                            0\n",
       "POS_PRED                            0\n",
       "POS_PREP                            0\n",
       "POS_NUMR                            0\n",
       "POS_PRCL                            0\n",
       "POS_INTJ                            0\n",
       "POS_NPRO                            0\n",
       "POS_COMP                            0\n",
       "POS_ADJS                            0\n",
       "text_dv_99                          0\n",
       "dtype: int64"
      ]
     },
     "execution_count": 23,
     "metadata": {},
     "output_type": "execute_result"
    }
   ],
   "source": [
    "test.isnull().sum().sort_values().tail(50)"
   ]
  },
  {
   "cell_type": "code",
   "execution_count": 24,
   "metadata": {},
   "outputs": [],
   "source": [
    "test.fillna(0, inplace=True)"
   ]
  },
  {
   "cell_type": "code",
   "execution_count": 25,
   "metadata": {},
   "outputs": [],
   "source": [
    "from sklearn.preprocessing import StandardScaler"
   ]
  },
  {
   "cell_type": "code",
   "execution_count": 26,
   "metadata": {},
   "outputs": [],
   "source": [
    "scaler = StandardScaler()"
   ]
  },
  {
   "cell_type": "code",
   "execution_count": 27,
   "metadata": {
    "id": "FNrsFZ1ikajK"
   },
   "outputs": [],
   "source": [
    "x_train, y_train = train[cols], train['class']\n",
    "x_val, y_val = val[cols], val['class']"
   ]
  },
  {
   "cell_type": "code",
   "execution_count": 28,
   "metadata": {},
   "outputs": [],
   "source": [
    "x_test = test[cols]"
   ]
  },
  {
   "cell_type": "code",
   "execution_count": 29,
   "metadata": {},
   "outputs": [],
   "source": [
    "from transformers import BertTokenizer, BertModel\n",
    "\n",
    "tokenizer = BertTokenizer.from_pretrained(\"DeepPavlov/rubert-base-cased\")"
   ]
  },
  {
   "cell_type": "code",
   "execution_count": 30,
   "metadata": {},
   "outputs": [
    {
     "name": "stderr",
     "output_type": "stream",
     "text": [
      "100%|█████████████████████████████████████████████████████████████████████████| 129066/129066 [00:52<00:00, 2447.71it/s]\n"
     ]
    }
   ],
   "source": [
    "from tqdm import tqdm\n",
    "\n",
    "tokenized_texts = [tokenizer.tokenize(sent) for sent in tqdm(x_train['text'])]"
   ]
  },
  {
   "cell_type": "code",
   "execution_count": 31,
   "metadata": {},
   "outputs": [
    {
     "name": "stderr",
     "output_type": "stream",
     "text": [
      "100%|███████████████████████████████████████████████████████████████████████████| 21511/21511 [00:08<00:00, 2507.70it/s]\n"
     ]
    }
   ],
   "source": [
    "val_tokenized_texts = [tokenizer.tokenize(sent) for sent in tqdm(x_val['text'])]"
   ]
  },
  {
   "cell_type": "code",
   "execution_count": 32,
   "metadata": {},
   "outputs": [
    {
     "name": "stderr",
     "output_type": "stream",
     "text": [
      "100%|███████████████████████████████████████████████████████████████████████████| 64533/64533 [00:26<00:00, 2413.02it/s]\n"
     ]
    }
   ],
   "source": [
    "test_tokenized_texts = [tokenizer.tokenize(sent) for sent in tqdm(x_test['text'])]"
   ]
  },
  {
   "cell_type": "code",
   "execution_count": 33,
   "metadata": {},
   "outputs": [],
   "source": [
    "feature_cols = [col for col in list(x_train) if col != 'text']\n",
    "#feature_cols = feature_cols[1:][:14] + feature_cols[1:][15:]"
   ]
  },
  {
   "cell_type": "code",
   "execution_count": 34,
   "metadata": {
    "id": "UxVHrLM-kfNP"
   },
   "outputs": [
    {
     "name": "stderr",
     "output_type": "stream",
     "text": [
      "100%|████████████████████████████████████████████████████████████████████████| 129066/129066 [00:03<00:00, 39010.35it/s]\n",
      "100%|██████████████████████████████████████████████████████████████████████████| 21511/21511 [00:00<00:00, 36770.70it/s]\n"
     ]
    }
   ],
   "source": [
    "from tensorflow.keras.preprocessing.sequence import pad_sequences\n",
    "\n",
    "train_inputs = [tokenizer.convert_tokens_to_ids(x) for x in tqdm(tokenized_texts)]\n",
    "\n",
    "train_inputs = pad_sequences(train_inputs, \n",
    "                          dtype='long', \n",
    "                          padding='post', \n",
    "                          truncating='post')\n",
    "\n",
    "train_masks = [[float(i>0) for i in seq] for seq in train_inputs]\n",
    "\n",
    "validation_inputs = [tokenizer.convert_tokens_to_ids(x) for x in tqdm(val_tokenized_texts)]\n",
    "\n",
    "validation_inputs = pad_sequences(validation_inputs, \n",
    "                          dtype='long', \n",
    "                          padding='post', \n",
    "                          truncating='post')\n",
    "\n",
    "validation_masks = [[float(i>0) for i in seq] for seq in validation_inputs]\n",
    "\n",
    "train_labels, validation_labels = np.array(y_train), np.array(y_val)\n",
    "\n",
    "train_inputs = torch.tensor(train_inputs)\n",
    "train_labels = torch.tensor(train_labels)\n",
    "train_masks = torch.tensor(train_masks)\n",
    "\n",
    "train_features = np.array(train[feature_cols], dtype='float32')\n",
    "validation_features = np.array(val[feature_cols], dtype='float32')\n",
    "train_features = scaler.fit_transform(train_features)\n",
    "validation_features = scaler.transform(validation_features)\n",
    "\n",
    "train_features = torch.tensor(train_features)\n",
    "validation_features = torch.tensor(validation_features)\n",
    "\n",
    "validation_inputs = torch.tensor(validation_inputs)\n",
    "validation_labels = torch.tensor(validation_labels)\n",
    "validation_masks = torch.tensor(validation_masks)\n",
    "\n",
    "train_data = torch.utils.data.TensorDataset(train_inputs, train_masks, train_features, train_labels)\n",
    "train_dataloader = torch.utils.data.DataLoader(\n",
    "    train_data,\n",
    "    batch_size=8,\n",
    "    sampler=torch.utils.data.RandomSampler(train_data)\n",
    ")\n",
    "\n",
    "validation_data = torch.utils.data.TensorDataset(validation_inputs, validation_masks, validation_features, validation_labels)\n",
    "validation_dataloader = torch.utils.data.DataLoader(\n",
    "    validation_data,\n",
    "    batch_size=8,\n",
    "    sampler=torch.utils.data.SequentialSampler(validation_data)\n",
    ")"
   ]
  },
  {
   "cell_type": "code",
   "execution_count": 35,
   "metadata": {},
   "outputs": [
    {
     "name": "stderr",
     "output_type": "stream",
     "text": [
      "100%|██████████████████████████████████████████████████████████████████████████| 64533/64533 [00:01<00:00, 40143.29it/s]\n"
     ]
    }
   ],
   "source": [
    "test_inputs = [tokenizer.convert_tokens_to_ids(x) for x in tqdm(test_tokenized_texts)]\n",
    "\n",
    "test_inputs = pad_sequences(test_inputs, \n",
    "                          dtype='long', \n",
    "                          padding='post', \n",
    "                          truncating='post')\n",
    "\n",
    "\n",
    "test_masks = [[float(i>0) for i in seq] for seq in test_inputs]\n",
    "\n",
    "test_inputs = torch.tensor(test_inputs)\n",
    "test_masks = torch.tensor(test_masks)\n",
    "\n",
    "test_features = np.array(test[feature_cols], dtype='float32')\n",
    "test_features = scaler.transform(test_features)\n",
    "test_features = torch.tensor(test_features)\n",
    "\n",
    "test_data = torch.utils.data.TensorDataset(test_inputs, test_masks, test_features)\n",
    "test_dataloader = torch.utils.data.DataLoader(\n",
    "    test_data,\n",
    "    batch_size=8,\n",
    "    sampler=torch.utils.data.SequentialSampler(test_data)\n",
    ")"
   ]
  },
  {
   "cell_type": "code",
   "execution_count": 36,
   "metadata": {
    "id": "OfWrSFmSko8K"
   },
   "outputs": [],
   "source": [
    "from transformers import AdamW, BertConfig"
   ]
  },
  {
   "cell_type": "code",
   "execution_count": 40,
   "metadata": {},
   "outputs": [],
   "source": [
    "from torch.nn import functional as F"
   ]
  },
  {
   "cell_type": "code",
   "execution_count": 41,
   "metadata": {
    "colab": {
     "base_uri": "https://localhost:8080/"
    },
    "id": "vKpdI7bdkwRf",
    "outputId": "ffda8a85-e832-48ae-c99a-740d2bbe5dbe"
   },
   "outputs": [
    {
     "name": "stderr",
     "output_type": "stream",
     "text": [
      "Some weights of the model checkpoint at DeepPavlov/rubert-base-cased were not used when initializing BertModel: ['cls.predictions.transform.LayerNorm.weight', 'cls.seq_relationship.weight', 'cls.predictions.decoder.weight', 'cls.predictions.decoder.bias', 'cls.predictions.bias', 'cls.predictions.transform.dense.bias', 'cls.seq_relationship.bias', 'cls.predictions.transform.LayerNorm.bias', 'cls.predictions.transform.dense.weight']\n",
      "- This IS expected if you are initializing BertModel from the checkpoint of a model trained on another task or with another architecture (e.g. initializing a BertForSequenceClassification model from a BertForPreTraining model).\n",
      "- This IS NOT expected if you are initializing BertModel from the checkpoint of a model that you expect to be exactly identical (initializing a BertForSequenceClassification model from a BertForSequenceClassification model).\n"
     ]
    }
   ],
   "source": [
    "\n",
    "class myBertModel(torch.nn.Module):\n",
    "    def __init__(self, hidden_neurons, n_features):\n",
    "        super(myBertModel, self).__init__()\n",
    "        config = BertConfig.from_pretrained('DeepPavlov/rubert-base-cased', num_labels=2)\n",
    "        self.model = BertModel.from_pretrained('DeepPavlov/rubert-base-cased', config=config)\n",
    "        self.hidden_neurons = hidden_neurons\n",
    "        self.n_features = n_features\n",
    "        self.linear1 = torch.nn.Linear(config.hidden_size, self.hidden_neurons)\n",
    "        self.linear2 = torch.nn.Linear(self.hidden_neurons, int(self.hidden_neurons / 2))\n",
    "        self.linear3 = torch.nn.Linear(self.n_features, int(self.n_features / 2))\n",
    "        self.linear4 = torch.nn.Linear(int(self.n_features / 2), int(self.hidden_neurons / 2))\n",
    "        self.classifier = torch.nn.Linear(self.hidden_neurons, 2)\n",
    "        self.activation = torch.nn.Sigmoid()\n",
    "        self.dropout = torch.nn.Dropout(.3)\n",
    "        self.batchnorm1 = torch.nn.BatchNorm1d(self.hidden_neurons)\n",
    "        self.batchnorm2 = torch.nn.BatchNorm1d(int(self.hidden_neurons / 2))\n",
    "        self.batchnorm3 = torch.nn.BatchNorm1d(int(self.n_features / 2))\n",
    "        self.batchnorm4 = torch.nn.BatchNorm1d(int(self.hidden_neurons / 2))\n",
    "\n",
    "    def forward(self, input_ids, attention_mask, features):\n",
    "        bert_output = self.model(input_ids=input_ids, attention_mask=attention_mask)\n",
    "        seq_output = bert_output[0]\n",
    "        pooled_output = seq_output.mean(axis=1)\n",
    "        pooled_output = self.dropout(pooled_output)\n",
    "        \n",
    "        x1 = self.dropout(F.relu(self.batchnorm1(self.linear1(pooled_output))))\n",
    "        x1 = self.dropout(F.relu(self.batchnorm2(self.linear2(x1))))\n",
    "        \n",
    "        x2 = self.dropout(F.relu(self.batchnorm3(self.linear3(features))))\n",
    "        x2 = self.dropout(F.relu(self.batchnorm4(self.linear4(x2))))\n",
    "        \n",
    "        scores = self.dropout(self.classifier(torch.cat([x1, x2], dim=1)))\n",
    "        scores = self.activation(scores)\n",
    "        return scores\n",
    "\n",
    "my_model = myBertModel(hidden_neurons=512, n_features=len(feature_cols))\n",
    "# my_model = myBertModel(hidden_neurons=512)"
   ]
  },
  {
   "cell_type": "code",
   "execution_count": 42,
   "metadata": {
    "id": "nTqpnpFWt03b"
   },
   "outputs": [],
   "source": [
    "optimizer = AdamW(my_model.parameters(), lr=1e-5)\n",
    "loss = torch.nn.CrossEntropyLoss()"
   ]
  },
  {
   "cell_type": "code",
   "execution_count": 43,
   "metadata": {
    "colab": {
     "base_uri": "https://localhost:8080/"
    },
    "id": "DSV6ynCdoDw4",
    "outputId": "8d602d78-53d3-47d8-cd23-1c4184f28daf",
    "scrolled": true
   },
   "outputs": [
    {
     "data": {
      "text/plain": [
       "myBertModel(\n",
       "  (model): BertModel(\n",
       "    (embeddings): BertEmbeddings(\n",
       "      (word_embeddings): Embedding(119547, 768, padding_idx=0)\n",
       "      (position_embeddings): Embedding(512, 768)\n",
       "      (token_type_embeddings): Embedding(2, 768)\n",
       "      (LayerNorm): LayerNorm((768,), eps=1e-12, elementwise_affine=True)\n",
       "      (dropout): Dropout(p=0.1, inplace=False)\n",
       "    )\n",
       "    (encoder): BertEncoder(\n",
       "      (layer): ModuleList(\n",
       "        (0): BertLayer(\n",
       "          (attention): BertAttention(\n",
       "            (self): BertSelfAttention(\n",
       "              (query): Linear(in_features=768, out_features=768, bias=True)\n",
       "              (key): Linear(in_features=768, out_features=768, bias=True)\n",
       "              (value): Linear(in_features=768, out_features=768, bias=True)\n",
       "              (dropout): Dropout(p=0.1, inplace=False)\n",
       "            )\n",
       "            (output): BertSelfOutput(\n",
       "              (dense): Linear(in_features=768, out_features=768, bias=True)\n",
       "              (LayerNorm): LayerNorm((768,), eps=1e-12, elementwise_affine=True)\n",
       "              (dropout): Dropout(p=0.1, inplace=False)\n",
       "            )\n",
       "          )\n",
       "          (intermediate): BertIntermediate(\n",
       "            (dense): Linear(in_features=768, out_features=3072, bias=True)\n",
       "          )\n",
       "          (output): BertOutput(\n",
       "            (dense): Linear(in_features=3072, out_features=768, bias=True)\n",
       "            (LayerNorm): LayerNorm((768,), eps=1e-12, elementwise_affine=True)\n",
       "            (dropout): Dropout(p=0.1, inplace=False)\n",
       "          )\n",
       "        )\n",
       "        (1): BertLayer(\n",
       "          (attention): BertAttention(\n",
       "            (self): BertSelfAttention(\n",
       "              (query): Linear(in_features=768, out_features=768, bias=True)\n",
       "              (key): Linear(in_features=768, out_features=768, bias=True)\n",
       "              (value): Linear(in_features=768, out_features=768, bias=True)\n",
       "              (dropout): Dropout(p=0.1, inplace=False)\n",
       "            )\n",
       "            (output): BertSelfOutput(\n",
       "              (dense): Linear(in_features=768, out_features=768, bias=True)\n",
       "              (LayerNorm): LayerNorm((768,), eps=1e-12, elementwise_affine=True)\n",
       "              (dropout): Dropout(p=0.1, inplace=False)\n",
       "            )\n",
       "          )\n",
       "          (intermediate): BertIntermediate(\n",
       "            (dense): Linear(in_features=768, out_features=3072, bias=True)\n",
       "          )\n",
       "          (output): BertOutput(\n",
       "            (dense): Linear(in_features=3072, out_features=768, bias=True)\n",
       "            (LayerNorm): LayerNorm((768,), eps=1e-12, elementwise_affine=True)\n",
       "            (dropout): Dropout(p=0.1, inplace=False)\n",
       "          )\n",
       "        )\n",
       "        (2): BertLayer(\n",
       "          (attention): BertAttention(\n",
       "            (self): BertSelfAttention(\n",
       "              (query): Linear(in_features=768, out_features=768, bias=True)\n",
       "              (key): Linear(in_features=768, out_features=768, bias=True)\n",
       "              (value): Linear(in_features=768, out_features=768, bias=True)\n",
       "              (dropout): Dropout(p=0.1, inplace=False)\n",
       "            )\n",
       "            (output): BertSelfOutput(\n",
       "              (dense): Linear(in_features=768, out_features=768, bias=True)\n",
       "              (LayerNorm): LayerNorm((768,), eps=1e-12, elementwise_affine=True)\n",
       "              (dropout): Dropout(p=0.1, inplace=False)\n",
       "            )\n",
       "          )\n",
       "          (intermediate): BertIntermediate(\n",
       "            (dense): Linear(in_features=768, out_features=3072, bias=True)\n",
       "          )\n",
       "          (output): BertOutput(\n",
       "            (dense): Linear(in_features=3072, out_features=768, bias=True)\n",
       "            (LayerNorm): LayerNorm((768,), eps=1e-12, elementwise_affine=True)\n",
       "            (dropout): Dropout(p=0.1, inplace=False)\n",
       "          )\n",
       "        )\n",
       "        (3): BertLayer(\n",
       "          (attention): BertAttention(\n",
       "            (self): BertSelfAttention(\n",
       "              (query): Linear(in_features=768, out_features=768, bias=True)\n",
       "              (key): Linear(in_features=768, out_features=768, bias=True)\n",
       "              (value): Linear(in_features=768, out_features=768, bias=True)\n",
       "              (dropout): Dropout(p=0.1, inplace=False)\n",
       "            )\n",
       "            (output): BertSelfOutput(\n",
       "              (dense): Linear(in_features=768, out_features=768, bias=True)\n",
       "              (LayerNorm): LayerNorm((768,), eps=1e-12, elementwise_affine=True)\n",
       "              (dropout): Dropout(p=0.1, inplace=False)\n",
       "            )\n",
       "          )\n",
       "          (intermediate): BertIntermediate(\n",
       "            (dense): Linear(in_features=768, out_features=3072, bias=True)\n",
       "          )\n",
       "          (output): BertOutput(\n",
       "            (dense): Linear(in_features=3072, out_features=768, bias=True)\n",
       "            (LayerNorm): LayerNorm((768,), eps=1e-12, elementwise_affine=True)\n",
       "            (dropout): Dropout(p=0.1, inplace=False)\n",
       "          )\n",
       "        )\n",
       "        (4): BertLayer(\n",
       "          (attention): BertAttention(\n",
       "            (self): BertSelfAttention(\n",
       "              (query): Linear(in_features=768, out_features=768, bias=True)\n",
       "              (key): Linear(in_features=768, out_features=768, bias=True)\n",
       "              (value): Linear(in_features=768, out_features=768, bias=True)\n",
       "              (dropout): Dropout(p=0.1, inplace=False)\n",
       "            )\n",
       "            (output): BertSelfOutput(\n",
       "              (dense): Linear(in_features=768, out_features=768, bias=True)\n",
       "              (LayerNorm): LayerNorm((768,), eps=1e-12, elementwise_affine=True)\n",
       "              (dropout): Dropout(p=0.1, inplace=False)\n",
       "            )\n",
       "          )\n",
       "          (intermediate): BertIntermediate(\n",
       "            (dense): Linear(in_features=768, out_features=3072, bias=True)\n",
       "          )\n",
       "          (output): BertOutput(\n",
       "            (dense): Linear(in_features=3072, out_features=768, bias=True)\n",
       "            (LayerNorm): LayerNorm((768,), eps=1e-12, elementwise_affine=True)\n",
       "            (dropout): Dropout(p=0.1, inplace=False)\n",
       "          )\n",
       "        )\n",
       "        (5): BertLayer(\n",
       "          (attention): BertAttention(\n",
       "            (self): BertSelfAttention(\n",
       "              (query): Linear(in_features=768, out_features=768, bias=True)\n",
       "              (key): Linear(in_features=768, out_features=768, bias=True)\n",
       "              (value): Linear(in_features=768, out_features=768, bias=True)\n",
       "              (dropout): Dropout(p=0.1, inplace=False)\n",
       "            )\n",
       "            (output): BertSelfOutput(\n",
       "              (dense): Linear(in_features=768, out_features=768, bias=True)\n",
       "              (LayerNorm): LayerNorm((768,), eps=1e-12, elementwise_affine=True)\n",
       "              (dropout): Dropout(p=0.1, inplace=False)\n",
       "            )\n",
       "          )\n",
       "          (intermediate): BertIntermediate(\n",
       "            (dense): Linear(in_features=768, out_features=3072, bias=True)\n",
       "          )\n",
       "          (output): BertOutput(\n",
       "            (dense): Linear(in_features=3072, out_features=768, bias=True)\n",
       "            (LayerNorm): LayerNorm((768,), eps=1e-12, elementwise_affine=True)\n",
       "            (dropout): Dropout(p=0.1, inplace=False)\n",
       "          )\n",
       "        )\n",
       "        (6): BertLayer(\n",
       "          (attention): BertAttention(\n",
       "            (self): BertSelfAttention(\n",
       "              (query): Linear(in_features=768, out_features=768, bias=True)\n",
       "              (key): Linear(in_features=768, out_features=768, bias=True)\n",
       "              (value): Linear(in_features=768, out_features=768, bias=True)\n",
       "              (dropout): Dropout(p=0.1, inplace=False)\n",
       "            )\n",
       "            (output): BertSelfOutput(\n",
       "              (dense): Linear(in_features=768, out_features=768, bias=True)\n",
       "              (LayerNorm): LayerNorm((768,), eps=1e-12, elementwise_affine=True)\n",
       "              (dropout): Dropout(p=0.1, inplace=False)\n",
       "            )\n",
       "          )\n",
       "          (intermediate): BertIntermediate(\n",
       "            (dense): Linear(in_features=768, out_features=3072, bias=True)\n",
       "          )\n",
       "          (output): BertOutput(\n",
       "            (dense): Linear(in_features=3072, out_features=768, bias=True)\n",
       "            (LayerNorm): LayerNorm((768,), eps=1e-12, elementwise_affine=True)\n",
       "            (dropout): Dropout(p=0.1, inplace=False)\n",
       "          )\n",
       "        )\n",
       "        (7): BertLayer(\n",
       "          (attention): BertAttention(\n",
       "            (self): BertSelfAttention(\n",
       "              (query): Linear(in_features=768, out_features=768, bias=True)\n",
       "              (key): Linear(in_features=768, out_features=768, bias=True)\n",
       "              (value): Linear(in_features=768, out_features=768, bias=True)\n",
       "              (dropout): Dropout(p=0.1, inplace=False)\n",
       "            )\n",
       "            (output): BertSelfOutput(\n",
       "              (dense): Linear(in_features=768, out_features=768, bias=True)\n",
       "              (LayerNorm): LayerNorm((768,), eps=1e-12, elementwise_affine=True)\n",
       "              (dropout): Dropout(p=0.1, inplace=False)\n",
       "            )\n",
       "          )\n",
       "          (intermediate): BertIntermediate(\n",
       "            (dense): Linear(in_features=768, out_features=3072, bias=True)\n",
       "          )\n",
       "          (output): BertOutput(\n",
       "            (dense): Linear(in_features=3072, out_features=768, bias=True)\n",
       "            (LayerNorm): LayerNorm((768,), eps=1e-12, elementwise_affine=True)\n",
       "            (dropout): Dropout(p=0.1, inplace=False)\n",
       "          )\n",
       "        )\n",
       "        (8): BertLayer(\n",
       "          (attention): BertAttention(\n",
       "            (self): BertSelfAttention(\n",
       "              (query): Linear(in_features=768, out_features=768, bias=True)\n",
       "              (key): Linear(in_features=768, out_features=768, bias=True)\n",
       "              (value): Linear(in_features=768, out_features=768, bias=True)\n",
       "              (dropout): Dropout(p=0.1, inplace=False)\n",
       "            )\n",
       "            (output): BertSelfOutput(\n",
       "              (dense): Linear(in_features=768, out_features=768, bias=True)\n",
       "              (LayerNorm): LayerNorm((768,), eps=1e-12, elementwise_affine=True)\n",
       "              (dropout): Dropout(p=0.1, inplace=False)\n",
       "            )\n",
       "          )\n",
       "          (intermediate): BertIntermediate(\n",
       "            (dense): Linear(in_features=768, out_features=3072, bias=True)\n",
       "          )\n",
       "          (output): BertOutput(\n",
       "            (dense): Linear(in_features=3072, out_features=768, bias=True)\n",
       "            (LayerNorm): LayerNorm((768,), eps=1e-12, elementwise_affine=True)\n",
       "            (dropout): Dropout(p=0.1, inplace=False)\n",
       "          )\n",
       "        )\n",
       "        (9): BertLayer(\n",
       "          (attention): BertAttention(\n",
       "            (self): BertSelfAttention(\n",
       "              (query): Linear(in_features=768, out_features=768, bias=True)\n",
       "              (key): Linear(in_features=768, out_features=768, bias=True)\n",
       "              (value): Linear(in_features=768, out_features=768, bias=True)\n",
       "              (dropout): Dropout(p=0.1, inplace=False)\n",
       "            )\n",
       "            (output): BertSelfOutput(\n",
       "              (dense): Linear(in_features=768, out_features=768, bias=True)\n",
       "              (LayerNorm): LayerNorm((768,), eps=1e-12, elementwise_affine=True)\n",
       "              (dropout): Dropout(p=0.1, inplace=False)\n",
       "            )\n",
       "          )\n",
       "          (intermediate): BertIntermediate(\n",
       "            (dense): Linear(in_features=768, out_features=3072, bias=True)\n",
       "          )\n",
       "          (output): BertOutput(\n",
       "            (dense): Linear(in_features=3072, out_features=768, bias=True)\n",
       "            (LayerNorm): LayerNorm((768,), eps=1e-12, elementwise_affine=True)\n",
       "            (dropout): Dropout(p=0.1, inplace=False)\n",
       "          )\n",
       "        )\n",
       "        (10): BertLayer(\n",
       "          (attention): BertAttention(\n",
       "            (self): BertSelfAttention(\n",
       "              (query): Linear(in_features=768, out_features=768, bias=True)\n",
       "              (key): Linear(in_features=768, out_features=768, bias=True)\n",
       "              (value): Linear(in_features=768, out_features=768, bias=True)\n",
       "              (dropout): Dropout(p=0.1, inplace=False)\n",
       "            )\n",
       "            (output): BertSelfOutput(\n",
       "              (dense): Linear(in_features=768, out_features=768, bias=True)\n",
       "              (LayerNorm): LayerNorm((768,), eps=1e-12, elementwise_affine=True)\n",
       "              (dropout): Dropout(p=0.1, inplace=False)\n",
       "            )\n",
       "          )\n",
       "          (intermediate): BertIntermediate(\n",
       "            (dense): Linear(in_features=768, out_features=3072, bias=True)\n",
       "          )\n",
       "          (output): BertOutput(\n",
       "            (dense): Linear(in_features=3072, out_features=768, bias=True)\n",
       "            (LayerNorm): LayerNorm((768,), eps=1e-12, elementwise_affine=True)\n",
       "            (dropout): Dropout(p=0.1, inplace=False)\n",
       "          )\n",
       "        )\n",
       "        (11): BertLayer(\n",
       "          (attention): BertAttention(\n",
       "            (self): BertSelfAttention(\n",
       "              (query): Linear(in_features=768, out_features=768, bias=True)\n",
       "              (key): Linear(in_features=768, out_features=768, bias=True)\n",
       "              (value): Linear(in_features=768, out_features=768, bias=True)\n",
       "              (dropout): Dropout(p=0.1, inplace=False)\n",
       "            )\n",
       "            (output): BertSelfOutput(\n",
       "              (dense): Linear(in_features=768, out_features=768, bias=True)\n",
       "              (LayerNorm): LayerNorm((768,), eps=1e-12, elementwise_affine=True)\n",
       "              (dropout): Dropout(p=0.1, inplace=False)\n",
       "            )\n",
       "          )\n",
       "          (intermediate): BertIntermediate(\n",
       "            (dense): Linear(in_features=768, out_features=3072, bias=True)\n",
       "          )\n",
       "          (output): BertOutput(\n",
       "            (dense): Linear(in_features=3072, out_features=768, bias=True)\n",
       "            (LayerNorm): LayerNorm((768,), eps=1e-12, elementwise_affine=True)\n",
       "            (dropout): Dropout(p=0.1, inplace=False)\n",
       "          )\n",
       "        )\n",
       "      )\n",
       "    )\n",
       "    (pooler): BertPooler(\n",
       "      (dense): Linear(in_features=768, out_features=768, bias=True)\n",
       "      (activation): Tanh()\n",
       "    )\n",
       "  )\n",
       "  (linear1): Linear(in_features=768, out_features=512, bias=True)\n",
       "  (linear2): Linear(in_features=512, out_features=256, bias=True)\n",
       "  (linear3): Linear(in_features=132, out_features=66, bias=True)\n",
       "  (linear4): Linear(in_features=66, out_features=256, bias=True)\n",
       "  (classifier): Linear(in_features=512, out_features=2, bias=True)\n",
       "  (activation): Sigmoid()\n",
       "  (dropout): Dropout(p=0.3, inplace=False)\n",
       "  (batchnorm1): BatchNorm1d(512, eps=1e-05, momentum=0.1, affine=True, track_running_stats=True)\n",
       "  (batchnorm2): BatchNorm1d(256, eps=1e-05, momentum=0.1, affine=True, track_running_stats=True)\n",
       "  (batchnorm3): BatchNorm1d(66, eps=1e-05, momentum=0.1, affine=True, track_running_stats=True)\n",
       "  (batchnorm4): BatchNorm1d(256, eps=1e-05, momentum=0.1, affine=True, track_running_stats=True)\n",
       ")"
      ]
     },
     "execution_count": 43,
     "metadata": {},
     "output_type": "execute_result"
    }
   ],
   "source": [
    "my_model.to(device)\n",
    "my_model.train()"
   ]
  },
  {
   "cell_type": "code",
   "execution_count": 44,
   "metadata": {
    "id": "A1QC4ZuWnvn-"
   },
   "outputs": [],
   "source": [
    "from tqdm import tqdm"
   ]
  },
  {
   "cell_type": "code",
   "execution_count": 45,
   "metadata": {},
   "outputs": [],
   "source": [
    "from sklearn.metrics import accuracy_score, precision_score, f1_score, recall_score"
   ]
  },
  {
   "cell_type": "code",
   "execution_count": 63,
   "metadata": {},
   "outputs": [],
   "source": [
    "scheduler = torch.optim.lr_scheduler.ReduceLROnPlateau(optimizer, 'min')"
   ]
  },
  {
   "cell_type": "code",
   "execution_count": null,
   "metadata": {
    "colab": {
     "base_uri": "https://localhost:8080/"
    },
    "id": "R-MDC0iTkzAg",
    "outputId": "91cedf89-922d-4759-8dc3-6d5dbb430e3c",
    "scrolled": true
   },
   "outputs": [
    {
     "name": "stdout",
     "output_type": "stream",
     "text": [
      "Epoch 0 ... Train accuracy: 0.85 ... Train precision: 0.88 ... Train recall: 0.80 ... Train f1: 0.84 ... Train loss: 0.3937\n",
      "Epoch 0 ... Val accuracy: 0.79 ... Val precision: 0.76 ... Val recall: 0.83 ... Val f1: 0.80 ... Val loss: 0.5989\n",
      "\n",
      "-------------------------------------------------------------------------------------------------------------------------\n",
      "\n"
     ]
    }
   ],
   "source": [
    "loss_set = []\n",
    "val_loss_set = []\n",
    "\n",
    "n_epochs = 3\n",
    "\n",
    "for epoch in range(n_epochs):\n",
    "    \n",
    "    train_labels = []\n",
    "    train_preds = []\n",
    "    \n",
    "    my_model.train()\n",
    "    \n",
    "    for batch in train_dataloader:\n",
    "        batch = tuple(t.to(device) for t in batch)\n",
    "        b_input_ids, b_input_mask, b_features, b_labels = batch\n",
    "        optimizer.zero_grad()\n",
    "        pred_probs = my_model.forward(b_input_ids, b_input_mask, b_features)\n",
    "        my_loss = loss(pred_probs, b_labels)\n",
    "        loss_set.append(my_loss.item())\n",
    "        my_loss.backward()\n",
    "        optimizer.step()\n",
    "        \n",
    "        b_labels = b_labels.to('cpu').numpy()\n",
    "        pred_probs = pred_probs.detach().to('cpu').numpy()\n",
    "        pred_labels = pred_probs.argmax(axis=1)\n",
    "        \n",
    "        train_labels.extend(b_labels)\n",
    "        train_preds.extend(pred_labels)\n",
    "        \n",
    "    train_acc = accuracy_score(train_labels, train_preds)\n",
    "    train_precision = precision_score(train_labels, train_preds)\n",
    "    train_recall = recall_score(train_labels, train_preds)\n",
    "    train_f1 = f1_score(train_labels, train_preds)   \n",
    "    \n",
    "    print('Epoch {} ... Train accuracy: {:.2f} ... Train precision: {:.2f} ... Train recall: {:.2f} ... Train f1: {:.2f} ... Train loss: {:.4f}'.format(epoch, train_acc, train_precision, train_recall, train_f1, my_loss.item()))\n",
    "        \n",
    "    val_labels = []\n",
    "    val_preds = []\n",
    "    \n",
    "    my_model.eval()\n",
    "    \n",
    "    for batch in validation_dataloader:\n",
    "        batch = tuple(t.to(device) for t in batch)\n",
    "        b_input_ids, b_input_mask, b_features, b_labels = batch\n",
    "\n",
    "        with torch.no_grad():\n",
    "            pred_probs = my_model.forward(b_input_ids, b_input_mask, b_features)\n",
    "            val_loss = loss(pred_probs, b_labels)\n",
    "            val_loss_set.append(val_loss.item())\n",
    "\n",
    "        b_labels = b_labels.to('cpu').numpy()\n",
    "        pred_probs = pred_probs.detach().to('cpu').numpy()\n",
    "\n",
    "        pred_labels = pred_probs.argmax(axis=1)\n",
    "\n",
    "        val_labels.extend(b_labels)\n",
    "        val_preds.extend(pred_labels)\n",
    "        \n",
    "        scheduler.step(val_loss)\n",
    "\n",
    "    val_acc = accuracy_score(val_labels, val_preds)\n",
    "    val_precision = precision_score(val_labels, val_preds)\n",
    "    val_recall = recall_score(val_labels, val_preds)\n",
    "    val_f1 = f1_score(val_labels, val_preds)\n",
    "\n",
    "    print('Epoch {} ... Val accuracy: {:.2f} ... Val precision: {:.2f} ... Val recall: {:.2f} ... Val f1: {:.2f} ... Val loss: {:.4f}'.format(epoch, val_acc, val_precision, val_recall, val_f1, val_loss.item()))\n",
    "    print()\n",
    "    print('-------------------------------------------------------------------------------------------------------------------------')\n",
    "    print()"
   ]
  },
  {
   "cell_type": "code",
   "execution_count": null,
   "metadata": {},
   "outputs": [],
   "source": [
    "\"\"\"Epoch 0 ... Train accuracy: 0.71 ... Train precision: 0.73 ... Train recall: 0.67 ... Train f1: 0.70 ... Train loss: 0.7405\n",
    "Epoch 0 ... Val accuracy: 0.77 ... Val precision: 0.77 ... Val recall: 0.76 ... Val f1: 0.77 ... Val loss: 0.5633\n",
    "\n",
    "-------------------------------------------------------------------------------------------------------------------------\n",
    "\n",
    "Epoch 1 ... Train accuracy: 0.77 ... Train precision: 0.80 ... Train recall: 0.73 ... Train f1: 0.76 ... Train loss: 0.3138\n",
    "Epoch 1 ... Val accuracy: 0.79 ... Val precision: 0.83 ... Val recall: 0.73 ... Val f1: 0.77 ... Val loss: 0.5765\n",
    "\n",
    "-------------------------------------------------------------------------------------------------------------------------\n",
    "\n",
    "Epoch 2 ... Train accuracy: 0.80 ... Train precision: 0.84 ... Train recall: 0.75 ... Train f1: 0.79 ... Train loss: 1.1433\n",
    "Epoch 2 ... Val accuracy: 0.78 ... Val precision: 0.75 ... Val recall: 0.85 ... Val f1: 0.80 ... Val loss: 0.3398\n",
    "\"\"\""
   ]
  },
  {
   "cell_type": "code",
   "execution_count": 121,
   "metadata": {},
   "outputs": [],
   "source": [
    "torch.save(my_model.state_dict(), 'bert_model_dv.pt')"
   ]
  },
  {
   "cell_type": "code",
   "execution_count": 49,
   "metadata": {},
   "outputs": [],
   "source": [
    "test_preds = []\n",
    "\n",
    "for batch in test_dataloader:\n",
    "    batch = tuple(t.to(device) for t in batch)\n",
    "    b_input_ids, b_input_mask, b_features = batch\n",
    "    with torch.no_grad():\n",
    "        pred_probs = my_model.forward(b_input_ids, b_input_mask, b_features)\n",
    "        pred_labels = pred_probs.detach().to('cpu').numpy().argmax(axis=1)\n",
    "        test_preds.extend(pred_labels)"
   ]
  },
  {
   "cell_type": "code",
   "execution_count": 51,
   "metadata": {},
   "outputs": [],
   "source": [
    "submission_data = pd.read_csv('test.csv')\n",
    "submission_data['Class'] = test_preds\n",
    "submission_data['Class'] = submission_data['Class'].map({0: 'H', 1: 'M'})\n",
    "submission_data[['Id', 'Class']].to_csv('submission_3.csv', index=False)"
   ]
  },
  {
   "cell_type": "code",
   "execution_count": 53,
   "metadata": {
    "colab": {
     "base_uri": "https://localhost:8080/",
     "height": 281
    },
    "id": "gbgi6GmiauCh",
    "outputId": "e234883b-352f-42ba-f70a-3ed3140a3761"
   },
   "outputs": [
    {
     "data": {
      "image/png": "[encoded data removed]",
      "text/plain": [
       "<Figure size 1080x720 with 1 Axes>"
      ]
     },
     "metadata": {
      "needs_background": "light"
     },
     "output_type": "display_data"
    }
   ],
   "source": [
    "plt.figure(figsize=(15,10))\n",
    "plt.plot(loss_set)\n",
    "plt.title('Train loss')\n",
    "plt.show()"
   ]
  },
  {
   "cell_type": "code",
   "execution_count": 54,
   "metadata": {},
   "outputs": [
    {
     "data": {
      "image/png": "[encoded data removed]",
      "text/plain": [
       "<Figure size 1080x720 with 1 Axes>"
      ]
     },
     "metadata": {
      "needs_background": "light"
     },
     "output_type": "display_data"
    }
   ],
   "source": [
    "plt.figure(figsize=(15,10))\n",
    "plt.plot(val_loss_set)\n",
    "plt.title('Val loss')\n",
    "plt.show()"
   ]
  },
  {
   "cell_type": "code",
   "execution_count": 58,
   "metadata": {},
   "outputs": [
    {
     "data": {
      "text/plain": [
       "0.511722881346941"
      ]
     },
     "execution_count": 58,
     "metadata": {},
     "output_type": "execute_result"
    }
   ],
   "source": [
    "np.mean(val_loss_set[:1000])"
   ]
  },
  {
   "cell_type": "code",
   "execution_count": 59,
   "metadata": {},
   "outputs": [
    {
     "data": {
      "text/plain": [
       "0.5185339579582214"
      ]
     },
     "execution_count": 59,
     "metadata": {},
     "output_type": "execute_result"
    }
   ],
   "source": [
    "np.mean(val_loss_set[1000:2000])"
   ]
  },
  {
   "cell_type": "code",
   "execution_count": 60,
   "metadata": {},
   "outputs": [
    {
     "data": {
      "text/plain": [
       "0.5091234363913536"
      ]
     },
     "execution_count": 60,
     "metadata": {},
     "output_type": "execute_result"
    }
   ],
   "source": [
    "np.mean(val_loss_set[2000:3000])"
   ]
  },
  {
   "cell_type": "code",
   "execution_count": 61,
   "metadata": {},
   "outputs": [
    {
     "data": {
      "text/plain": [
       "0.517169146925211"
      ]
     },
     "execution_count": 61,
     "metadata": {},
     "output_type": "execute_result"
    }
   ],
   "source": [
    "np.mean(val_loss_set[3000:4000])"
   ]
  },
  {
   "cell_type": "code",
   "execution_count": 62,
   "metadata": {},
   "outputs": [
    {
     "data": {
      "text/plain": [
       "0.5276919349133968"
      ]
     },
     "execution_count": 62,
     "metadata": {},
     "output_type": "execute_result"
    }
   ],
   "source": [
    "np.mean(val_loss_set[4000:5000])"
   ]
  },
  {
   "cell_type": "code",
   "execution_count": null,
   "metadata": {},
   "outputs": [],
   "source": []
  }
 ],
 "metadata": {
  "accelerator": "GPU",
  "colab": {
   "collapsed_sections": [],
   "include_colab_link": true,
   "machine_shape": "hm",
   "name": "Копия блокнота \"HACKANONS COLAB 25GB RAM.ipynb\"",
   "provenance": []
  },
  "kernelspec": {
   "display_name": "Python 3",
   "language": "python",
   "name": "python3"
  },
  "language_info": {
   "codemirror_mode": {
    "name": "ipython",
    "version": 3
   },
   "file_extension": ".py",
   "mimetype": "text/x-python",
   "name": "python",
   "nbconvert_exporter": "python",
   "pygments_lexer": "ipython3",
   "version": "3.8.10"
  }
 },
 "nbformat": 4,
 "nbformat_minor": 1
}
